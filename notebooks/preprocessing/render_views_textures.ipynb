{
 "cells": [
  {
   "attachments": {},
   "cell_type": "markdown",
   "metadata": {
    "id": "pJjYDZbZfXdd"
   },
   "source": [
    "# APPENDIX A"
   ]
  },
  {
   "attachments": {},
   "cell_type": "markdown",
   "metadata": {},
   "source": [
    "# Generation of novel views from files .obj .mtl texture.png\n",
    "\n",
    "Here from file **.obj** we generate a novel dataset to evaluate ours models with respect to the ground truth point cloud."
   ]
  },
  {
   "cell_type": "code",
   "execution_count": 1,
   "metadata": {
    "colab": {
     "base_uri": "https://localhost:8080/"
    },
    "id": "uX_QlOFt019Y",
    "outputId": "fce19c26-de5d-4cfd-ec38-b606fa0a45e9"
   },
   "outputs": [
    {
     "name": "stdout",
     "output_type": "stream",
     "text": [
      "Mounted at /content/drive\n"
     ]
    }
   ],
   "source": [
    "from PIL import Image\n",
    "import torch\n",
    "from tqdm.auto import tqdm\n",
    "from torchvision import transforms\n",
    "import numpy as np\n",
    "import matplotlib.pyplot as plt\n",
    "import random\n",
    "import tqdm\n",
    "import math"
   ]
  },
  {
   "cell_type": "code",
   "execution_count": 2,
   "metadata": {
    "id": "6GFQ_FA4xdin"
   },
   "outputs": [],
   "source": [
    "import shutil"
   ]
  },
  {
   "cell_type": "code",
   "execution_count": 44,
   "metadata": {
    "id": "Swa0jPz_VbWX"
   },
   "outputs": [],
   "source": [
    "import os\n",
    "import sys\n",
    "import torch\n",
    "need_pytorch3d=False\n",
    "try:\n",
    "    import pytorch3d\n",
    "except ModuleNotFoundError:\n",
    "    need_pytorch3d=True\n",
    "if need_pytorch3d:\n",
    "    if torch.__version__.startswith(\"1.13.\") and sys.platform.startswith(\"linux\"):\n",
    "        # We try to install PyTorch3D via a released wheel.\n",
    "        pyt_version_str=torch.__version__.split(\"+\")[0].replace(\".\", \"\")\n",
    "        version_str=\"\".join([\n",
    "            f\"py3{sys.version_info.minor}_cu\",\n",
    "            torch.version.cuda.replace(\".\",\"\"),\n",
    "            f\"_pyt{pyt_version_str}\"\n",
    "        ])\n",
    "        !pip install fvcore iopath\n",
    "        !pip install --no-index --no-cache-dir pytorch3d -f https://dl.fbaipublicfiles.com/pytorch3d/packaging/wheels/{version_str}/download.html\n",
    "    else:\n",
    "        # We try to install PyTorch3D from source.\n",
    "        !curl -LO https://github.com/NVIDIA/cub/archive/1.10.0.tar.gz\n",
    "        !tar xzf 1.10.0.tar.gz\n",
    "        os.environ[\"CUB_HOME\"] = os.getcwd() + \"/cub-1.10.0\"\n",
    "        !pip install 'git+https://github.com/facebookresearch/pytorch3d.git@stable'\n",
    "\n",
    "import pytorch3d\n",
    "from pytorch3d.structures import Pointclouds\n",
    "from pytorch3d.vis.plotly_vis import AxisArgs, plot_batch_individually, plot_scene\n",
    "\n",
    "from pytorch3d.utils import ico_sphere\n",
    "from pytorch3d.io import load_obj, load_objs_as_meshes \n",
    "from pytorch3d.structures import Meshes\n",
    "from pytorch3d.ops import sample_points_from_meshes\n",
    "from pytorch3d.loss import chamfer_distance\n",
    "\n",
    "\n",
    "# rendering components\n",
    "from pytorch3d.renderer import (\n",
    "    FoVPerspectiveCameras, look_at_view_transform, look_at_rotation, \n",
    "    RasterizationSettings, MeshRenderer, MeshRasterizer, BlendParams,\n",
    "    SoftSilhouetteShader, HardPhongShader, PointLights, TexturesVertex, Textures\n",
    ")\n",
    "from pytorch3d.io import IO"
   ]
  },
  {
   "cell_type": "code",
   "execution_count": 4,
   "metadata": {
    "id": "Qutwy4Mk1YRJ"
   },
   "outputs": [],
   "source": [
    "device = torch.device('cuda' if torch.cuda.is_available() else 'cpu')"
   ]
  },
  {
   "cell_type": "code",
   "execution_count": 5,
   "metadata": {
    "id": "UOsM2DaZfyUa"
   },
   "outputs": [],
   "source": [
    "# Initialize a perspective camera.\n",
    "cameras = FoVPerspectiveCameras(device=device)\n",
    "\n",
    "# To blend the 100 faces we set a few parameters which control the opacity and the sharpness of \n",
    "# edges. Refer to blending.py for more details. \n",
    "blend_params = BlendParams(sigma=1e-4, gamma=1e-4)\n",
    "\n",
    "# Define the settings for rasterization and shading. Here we set the output image to be of size\n",
    "# 256x256. To form the blended image we use 100 faces for each pixel. We also set bin_size and max_faces_per_bin to None which ensure that \n",
    "# the faster coarse-to-fine rasterization method is used. Refer to rasterize_meshes.py for \n",
    "# explanations of these parameters. Refer to docs/notes/renderer.md for an explanation of \n",
    "# the difference between naive and coarse-to-fine rasterization. \n",
    "raster_settings = RasterizationSettings(\n",
    "    image_size=256, \n",
    "    blur_radius=np.log(1. / 1e-4 - 1.) * blend_params.sigma, \n",
    "    faces_per_pixel=100, \n",
    ")\n",
    "\n",
    "# Create a silhouette mesh renderer by composing a rasterizer and a shader. \n",
    "silhouette_renderer = MeshRenderer(\n",
    "    rasterizer=MeshRasterizer(\n",
    "        cameras=cameras, \n",
    "        raster_settings=raster_settings\n",
    "    ),\n",
    "    shader=SoftSilhouetteShader(blend_params=blend_params)\n",
    ")\n",
    "\n",
    "# We will also create a Phong renderer. This is simpler and only needs to render one face per pixel.\n",
    "raster_settings = RasterizationSettings(\n",
    "    image_size=256, \n",
    "    blur_radius=0.0, \n",
    "    faces_per_pixel=1, \n",
    ")\n",
    "# We can add a point light in front of the object. \n",
    "lights = PointLights(device=device, location=((2.0, 2.0, -2.0),))\n",
    "phong_renderer = MeshRenderer(\n",
    "    rasterizer=MeshRasterizer(\n",
    "        cameras=cameras, \n",
    "        raster_settings=raster_settings\n",
    "    ),\n",
    "    shader=HardPhongShader(device=device, cameras=cameras, lights=lights)\n",
    ")"
   ]
  },
  {
   "attachments": {},
   "cell_type": "markdown",
   "metadata": {
    "id": "zt45o8oLfwgc"
   },
   "source": [
    "#### Import path/config utils"
   ]
  },
  {
   "cell_type": "code",
   "execution_count": 40,
   "metadata": {
    "id": "x2_Lu_54XcqA"
   },
   "outputs": [],
   "source": [
    "import pandas as pd\n",
    "import subprocess\n",
    "import shutil\n",
    "import pickle\n",
    "import glob"
   ]
  },
  {
   "cell_type": "code",
   "execution_count": 7,
   "metadata": {
    "id": "__Xl6ZWRYBXT"
   },
   "outputs": [],
   "source": [
    "# enable to run command from jupyter in the for loop\n",
    "def runcmd(cmd, verbose = False, *args, **kwargs):\n",
    "    process = subprocess.Popen(\n",
    "        cmd,\n",
    "        stdout = subprocess.PIPE,\n",
    "        stderr = subprocess.PIPE,\n",
    "        text = True,\n",
    "        shell = True\n",
    "    )\n",
    "    std_out, std_err = process.communicate()\n",
    "    if verbose:\n",
    "        print(std_out.strip(), std_err)\n",
    "    pass"
   ]
  },
  {
   "cell_type": "code",
   "execution_count": 8,
   "metadata": {
    "id": "botE0vghXY-j"
   },
   "outputs": [],
   "source": [
    "# Getting all the test classes \n",
    "test_csv = \"https://shapenet.cs.stanford.edu/shapenet/obj-zip/SHREC16/all.csv\"\n",
    "runcmd(f\"wget --no-check-certificate {test_csv}\", verbose = False)\n",
    "\n",
    "df = pd.read_csv(\"all.csv\")\n",
    "classes = df['synsetId'].unique()"
   ]
  },
  {
   "cell_type": "code",
   "execution_count": 9,
   "metadata": {
    "colab": {
     "base_uri": "https://localhost:8080/"
    },
    "id": "wh2IKKnj-AEe",
    "outputId": "92ad683d-7e4e-48c1-e4f5-024e96e8ffab"
   },
   "outputs": [
    {
     "name": "stdout",
     "output_type": "stream",
     "text": [
      "55\n"
     ]
    }
   ],
   "source": [
    "print(len(classes))"
   ]
  },
  {
   "attachments": {},
   "cell_type": "markdown",
   "metadata": {},
   "source": [
    "## Process the ShapeNet Dataset\n",
    "\n",
    "Since on Colab, we can not download the entire ShapeNet dataset, due to the limited amount of memory available in the freemium version. However, we wriggle away from this problem with a trick. We download the .csv file with the id of each batch of objects in ShapeNet. Subsequently, we downloaded at each step in the for loop the file id.zip within the batch of objects. Lastly, when we processed the twenty-five objects needed we remove the id.zip file and the id unzipped folder before downloading the next id.zip batch from ShapeNet.\n",
    "\n",
    "Concerning the set of views produced from ShapeNet with texture:\n",
    "+ the light of the scene is fixed\n",
    "+ each view is without any reflections\n",
    "+ we develop two versions of the dataset:\n",
    "  + we fixed the elevation and the distance of the camera from the object and we \n",
    "  took 6 pictures rotating around the object\n",
    "  + we fixed the distance of the camera from the object and we \n",
    "  took 6 pictures changing stochastically the value of the elevation\n",
    "  of the camera and rotating around the object \n",
    "+ we iterate this procedure on 25 different objects for each class in ShapeNet\n",
    "+ each view is 256x256 "
   ]
  },
  {
   "cell_type": "code",
   "execution_count": 84,
   "metadata": {
    "colab": {
     "base_uri": "https://localhost:8080/"
    },
    "id": "4SWh6EQV-Zb9",
    "outputId": "648e520d-65ce-45b6-aaa7-5ece8bca498c"
   },
   "outputs": [
    {
     "name": "stdout",
     "output_type": "stream",
     "text": [
      "[-] Downloading for obj: https://shapenet.cs.stanford.edu/shapenet/obj-zip/04330267.zip\n"
     ]
    },
    {
     "name": "stderr",
     "output_type": "stream",
     "text": [
      "100%|██████████| 25/25 [00:11<00:00,  2.19it/s]\n"
     ]
    },
    {
     "name": "stdout",
     "output_type": "stream",
     "text": [
      "[-] Downloading for obj: https://shapenet.cs.stanford.edu/shapenet/obj-zip/04090263.zip\n"
     ]
    },
    {
     "name": "stderr",
     "output_type": "stream",
     "text": [
      "100%|██████████| 25/25 [00:09<00:00,  2.54it/s]\n"
     ]
    },
    {
     "name": "stdout",
     "output_type": "stream",
     "text": [
      "[-] Downloading for obj: https://shapenet.cs.stanford.edu/shapenet/obj-zip/03593526.zip\n"
     ]
    },
    {
     "name": "stderr",
     "output_type": "stream",
     "text": [
      "100%|██████████| 25/25 [00:08<00:00,  2.84it/s]\n"
     ]
    },
    {
     "name": "stdout",
     "output_type": "stream",
     "text": [
      "[-] Downloading for obj: https://shapenet.cs.stanford.edu/shapenet/obj-zip/04004475.zip\n"
     ]
    },
    {
     "name": "stderr",
     "output_type": "stream",
     "text": [
      "100%|██████████| 25/25 [00:10<00:00,  2.50it/s]\n"
     ]
    },
    {
     "name": "stdout",
     "output_type": "stream",
     "text": [
      "[-] Downloading for obj: https://shapenet.cs.stanford.edu/shapenet/obj-zip/02843684.zip\n"
     ]
    },
    {
     "name": "stderr",
     "output_type": "stream",
     "text": [
      "100%|██████████| 25/25 [00:06<00:00,  4.00it/s]\n"
     ]
    },
    {
     "name": "stdout",
     "output_type": "stream",
     "text": [
      "[-] Downloading for obj: https://shapenet.cs.stanford.edu/shapenet/obj-zip/04099429.zip\n"
     ]
    },
    {
     "name": "stderr",
     "output_type": "stream",
     "text": [
      "100%|██████████| 25/25 [00:10<00:00,  2.30it/s]\n"
     ]
    },
    {
     "name": "stdout",
     "output_type": "stream",
     "text": [
      "[-] Downloading for obj: https://shapenet.cs.stanford.edu/shapenet/obj-zip/04379243.zip\n"
     ]
    },
    {
     "name": "stderr",
     "output_type": "stream",
     "text": [
      "100%|██████████| 25/25 [00:08<00:00,  2.94it/s]\n"
     ]
    },
    {
     "name": "stdout",
     "output_type": "stream",
     "text": [
      "[-] Downloading for obj: https://shapenet.cs.stanford.edu/shapenet/obj-zip/02876657.zip\n"
     ]
    },
    {
     "name": "stderr",
     "output_type": "stream",
     "text": [
      "100%|██████████| 25/25 [00:06<00:00,  3.74it/s]\n"
     ]
    },
    {
     "name": "stdout",
     "output_type": "stream",
     "text": [
      "[-] Downloading for obj: https://shapenet.cs.stanford.edu/shapenet/obj-zip/02933112.zip\n"
     ]
    },
    {
     "name": "stderr",
     "output_type": "stream",
     "text": [
      "100%|██████████| 25/25 [00:08<00:00,  3.08it/s]\n"
     ]
    },
    {
     "name": "stdout",
     "output_type": "stream",
     "text": [
      "[-] Downloading for obj: https://shapenet.cs.stanford.edu/shapenet/obj-zip/02992529.zip\n"
     ]
    },
    {
     "name": "stderr",
     "output_type": "stream",
     "text": [
      "100%|██████████| 25/25 [00:07<00:00,  3.48it/s]\n"
     ]
    },
    {
     "name": "stdout",
     "output_type": "stream",
     "text": [
      "[-] Downloading for obj: https://shapenet.cs.stanford.edu/shapenet/obj-zip/03991062.zip\n"
     ]
    },
    {
     "name": "stderr",
     "output_type": "stream",
     "text": [
      "100%|██████████| 25/25 [00:09<00:00,  2.67it/s]\n"
     ]
    },
    {
     "name": "stdout",
     "output_type": "stream",
     "text": [
      "[-] Downloading for obj: https://shapenet.cs.stanford.edu/shapenet/obj-zip/02992529.zip\n"
     ]
    },
    {
     "name": "stderr",
     "output_type": "stream",
     "text": [
      "100%|██████████| 25/25 [00:08<00:00,  2.94it/s]\n"
     ]
    },
    {
     "name": "stdout",
     "output_type": "stream",
     "text": [
      "[-] Downloading for obj: https://shapenet.cs.stanford.edu/shapenet/obj-zip/03046257.zip\n"
     ]
    },
    {
     "name": "stderr",
     "output_type": "stream",
     "text": [
      "100%|██████████| 25/25 [00:09<00:00,  2.73it/s]\n"
     ]
    },
    {
     "name": "stdout",
     "output_type": "stream",
     "text": [
      "[-] Downloading for obj: https://shapenet.cs.stanford.edu/shapenet/obj-zip/04074963.zip\n"
     ]
    },
    {
     "name": "stderr",
     "output_type": "stream",
     "text": [
      "100%|██████████| 25/25 [00:08<00:00,  3.10it/s]\n"
     ]
    },
    {
     "name": "stdout",
     "output_type": "stream",
     "text": [
      "[-] Downloading for obj: https://shapenet.cs.stanford.edu/shapenet/obj-zip/03797390.zip\n"
     ]
    },
    {
     "name": "stderr",
     "output_type": "stream",
     "text": [
      "100%|██████████| 25/25 [00:08<00:00,  2.99it/s]\n"
     ]
    },
    {
     "name": "stdout",
     "output_type": "stream",
     "text": [
      "[-] Downloading for obj: https://shapenet.cs.stanford.edu/shapenet/obj-zip/03636649.zip\n"
     ]
    },
    {
     "name": "stderr",
     "output_type": "stream",
     "text": [
      "100%|██████████| 25/25 [00:15<00:00,  1.61it/s]\n"
     ]
    },
    {
     "name": "stdout",
     "output_type": "stream",
     "text": [
      "[-] Downloading for obj: https://shapenet.cs.stanford.edu/shapenet/obj-zip/03991062.zip\n"
     ]
    },
    {
     "name": "stderr",
     "output_type": "stream",
     "text": [
      "100%|██████████| 25/25 [00:24<00:00,  1.02it/s]\n"
     ]
    },
    {
     "name": "stdout",
     "output_type": "stream",
     "text": [
      "[-] Downloading for obj: https://shapenet.cs.stanford.edu/shapenet/obj-zip/03759954.zip\n"
     ]
    },
    {
     "name": "stderr",
     "output_type": "stream",
     "text": [
      "100%|██████████| 25/25 [00:08<00:00,  2.88it/s]\n"
     ]
    },
    {
     "name": "stdout",
     "output_type": "stream",
     "text": [
      "[-] Downloading for obj: https://shapenet.cs.stanford.edu/shapenet/obj-zip/03467517.zip\n"
     ]
    },
    {
     "name": "stderr",
     "output_type": "stream",
     "text": [
      "100%|██████████| 25/25 [00:19<00:00,  1.29it/s]\n"
     ]
    },
    {
     "name": "stdout",
     "output_type": "stream",
     "text": [
      "[-] Downloading for obj: https://shapenet.cs.stanford.edu/shapenet/obj-zip/03710193.zip\n"
     ]
    },
    {
     "name": "stderr",
     "output_type": "stream",
     "text": [
      "100%|██████████| 25/25 [00:08<00:00,  2.92it/s]\n"
     ]
    },
    {
     "name": "stdout",
     "output_type": "stream",
     "text": [
      "[-] Downloading for obj: https://shapenet.cs.stanford.edu/shapenet/obj-zip/02773838.zip\n"
     ]
    },
    {
     "name": "stderr",
     "output_type": "stream",
     "text": [
      "100%|██████████| 25/25 [00:11<00:00,  2.12it/s]\n"
     ]
    },
    {
     "name": "stdout",
     "output_type": "stream",
     "text": [
      "[-] Downloading for obj: https://shapenet.cs.stanford.edu/shapenet/obj-zip/03211117.zip\n"
     ]
    },
    {
     "name": "stderr",
     "output_type": "stream",
     "text": [
      "100%|██████████| 25/25 [00:07<00:00,  3.21it/s]\n"
     ]
    },
    {
     "name": "stdout",
     "output_type": "stream",
     "text": [
      "[-] Downloading for obj: https://shapenet.cs.stanford.edu/shapenet/obj-zip/04004475.zip\n"
     ]
    },
    {
     "name": "stderr",
     "output_type": "stream",
     "text": [
      "100%|██████████| 25/25 [00:11<00:00,  2.25it/s]\n"
     ]
    },
    {
     "name": "stdout",
     "output_type": "stream",
     "text": [
      "[-] Downloading for obj: https://shapenet.cs.stanford.edu/shapenet/obj-zip/04530566.zip\n"
     ]
    },
    {
     "name": "stderr",
     "output_type": "stream",
     "text": [
      "100%|██████████| 25/25 [00:15<00:00,  1.65it/s]\n"
     ]
    },
    {
     "name": "stdout",
     "output_type": "stream",
     "text": [
      "[-] Downloading for obj: https://shapenet.cs.stanford.edu/shapenet/obj-zip/03337140.zip\n"
     ]
    },
    {
     "name": "stderr",
     "output_type": "stream",
     "text": [
      "100%|██████████| 25/25 [00:14<00:00,  1.76it/s]\n"
     ]
    }
   ],
   "source": [
    "distance = 2.8\n",
    "txtless_objs = 0\n",
    "num_views = 6\n",
    "num_points = 4096\n",
    "fixed_elevation = 2\n",
    "angles = np.linspace(0,360,num_views)\n",
    "\n",
    "n_test_classes = 25\n",
    "num_objects_per_class = 25\n",
    "\n",
    "PILToTensor = transforms.PILToTensor()\n",
    "\n",
    "dataset_clouds = [] # N, v, w, h, c \n",
    "dataset_views_stochastic_elevation = [] # N, c, K\n",
    "dataset_views_fixed_elevation = [] # N, c, K\n",
    "test_classes = random.choices(list(classes), k = min(len(classes), n_test_classes))\n",
    "\n",
    "for c in test_classes:\n",
    "  filename = \"{:08d}\".format(int(c))\n",
    "\n",
    "  # Download, extract and walk for this class\n",
    "  print(f\"[-] Downloading for obj: https://shapenet.cs.stanford.edu/shapenet/obj-zip/{filename}.zip\")\n",
    "\n",
    "  if not os.path.exists(f\"{filename}.zip\"):\n",
    "    runcmd(f\"wget --no-check-certificate https://shapenet.cs.stanford.edu/shapenet/obj-zip/{filename}.zip\", verbose = False)\n",
    "  assert os.path.exists(f\"{filename}.zip\") == True, f\"Error in downloading the class {filename}\"\n",
    "  \n",
    "  runcmd(f\"unzip -o {filename}.zip\", verbose = False)\n",
    "  assert os.path.exists(filename) == True, f\"Error in unzipping the class {filename}\"\n",
    "  \n",
    "  # For each class: choose some models and save the renders\n",
    "  # here we select only the folders in which the objects\n",
    "  # are provided with the texture and the verts_packed\n",
    "  folders = glob.glob(f'./{filename}/*/images')\n",
    "  # select all the name of the folder with obj with texture\n",
    "  folders = [folders[i].split('/')[2] for i in range(len(folders))]\n",
    "\n",
    "  for folder in tqdm(random.choices(list(folders), k=min(len(folders),num_objects_per_class))):\n",
    "      \n",
    "    # Initialize for each object\n",
    "    ground_views_stochastic_elevation = []\n",
    "    ground_views_fixed_elevation = []\n",
    "    pt_ground_views_stochastic_elevation = None\n",
    "    pt_ground_views_fixed_elevation = None\n",
    "    elevations = random.choices(list(range(90)), k=num_views)\n",
    "    rendered = False\n",
    "\n",
    "    try:\n",
    "      verts, faces, aux = load_obj(f'./{filename}/'+folder+'/model.obj', load_textures=True)\n",
    "\n",
    "      # add a dimension\n",
    "      verts_uvs = aux.verts_uvs[None, ...]  # (1, V, 2)\n",
    "      faces_uvs = faces.textures_idx[None, ...]  # (1, F, 3)\n",
    "      tex_maps = aux.texture_images\n",
    "\n",
    "      # tex_maps is a dictionary of {material name: texture image}.\n",
    "      # Take the first image:\n",
    "      texture_image = list(tex_maps.values())[0]\n",
    "      texture_image = texture_image[None, ...]  # (1, H, W, 3)\n",
    "\n",
    "      # Create a textures object\n",
    "      tex = Textures(verts_uvs=verts_uvs, faces_uvs=faces_uvs, maps=texture_image)\n",
    "\n",
    "      # Initialise the mesh with textures\n",
    "      mesh = Meshes(verts=[verts], faces=[faces.verts_idx], textures=tex).to(device)\n",
    "\n",
    "      # make the scene centered in offset\n",
    "      verts = mesh.verts_packed()\n",
    "      N = verts.shape[0]\n",
    "      center = verts.mean(0)\n",
    "      scale = max((verts - center).abs().max(0)[0])\n",
    "      mesh.offset_verts_(-center)\n",
    "      mesh.scale_verts_((1.0 / float(scale)));\n",
    "\n",
    "      for i in range(num_views):\n",
    "        # render view\n",
    "        R, T = look_at_view_transform(distance, elevations[i], angles[i], device=device)\n",
    "        image_ref = phong_renderer(meshes_world=mesh, R=R, T=T)\n",
    "        \n",
    "        # channel 4 is the alpha channel\n",
    "        pil_img = (image_ref.cpu().numpy().squeeze()[:,:,:3] * 255).astype(np.uint8)\n",
    "        pt_img = torch.Tensor(image_ref.cpu().numpy().squeeze()[:,:,:3] * 255)\n",
    "        \n",
    "        # if pt_ground_views_stochastic_elevation is None: pt_ground_views_stochastic_elevation = pt_img.unsqueeze(0) \n",
    "        # else: pt_ground_views_stochastic_elevation = torch.cat((pt_ground_views_stochastic_elevation, pt_img.unsqueeze(0)), 0)\n",
    "\n",
    "        ground_views_stochastic_elevation.append(Image.fromarray(pil_img))\n",
    "\n",
    "      for i in range(num_views):\n",
    "        # render view\n",
    "        R, T = look_at_view_transform(distance, fixed_elevation , angles[i], device=device)\n",
    "        image_ref = phong_renderer(meshes_world=mesh, R=R, T=T)\n",
    "        \n",
    "        # channel 4 is the alpha channel\n",
    "        pil_img = (image_ref.cpu().numpy().squeeze()[:,:,:3] * 255).astype(np.uint8)\n",
    "        pt_img = torch.Tensor(image_ref.cpu().numpy().squeeze()[:,:,:3] * 255)\n",
    "        \n",
    "        # if pt_ground_views_fixed_elevation is None: pt_ground_views_fixed_elevation = pt_img.unsqueeze(0) \n",
    "        # else: pt_ground_views_fixed_elevation = torch.cat((pt_ground_views_fixed_elevation, pt_img.unsqueeze(0)), 0)\n",
    "\n",
    "        ground_views_fixed_elevation.append(Image.fromarray(pil_img))\n",
    "\n",
    "        # Plot views\n",
    "        \"\"\"\n",
    "        cols = 2\n",
    "        rows = (num_views // cols)\n",
    "        f, axarr = plt.subplots(rows, cols)\n",
    "        for i in range(num_views):\n",
    "            axarr[i // cols, i % cols].imshow(ground_views[i])\n",
    "        plt.show()\n",
    "        \"\"\"\n",
    "      rendered = True\n",
    "      \n",
    "    except:\n",
    "      txtless_objs += 1\n",
    "\n",
    "    # Save point cloud and views\n",
    "    if rendered:\n",
    "      pc = pytorch3d.ops.sample_points_from_meshes(mesh, num_points)[0].permute(1, 0)\n",
    "      \n",
    "      # export as a list\n",
    "      dataset_views_stochastic_elevation.append(ground_views_stochastic_elevation)\n",
    "      dataset_views_fixed_elevation.append(ground_views_fixed_elevation)\n",
    "      dataset_clouds.append(pc)\n",
    "\n",
    "      # if dataset_views_stochastic_elevation is None: dataset_views = pt_ground_views_stochastic_elevation.unsqueeze(0)\n",
    "      # else: dataset_views_stochastic_elevation = torch.cat((dataset_views, pt_ground_views_stochastic_elevation.unsqueeze(0)), 0)\n",
    "\n",
    "      # if dataset_views_fixed_elevation is None: dataset_views = pt_ground_views_fixed_elevation.unsqueeze(0)\n",
    "      # else: dataset_views_fixed_elevation = torch.cat((dataset_views, pt_ground_views_fixed_elevation.unsqueeze(0)), 0)\n",
    "\n",
    "      # if dataset_clouds is None: dataset_clouds = pc \n",
    "      # else: dataset_clouds = torch.cat((dataset_clouds, pc), 0)\n",
    "\n",
    "  # # # # if you prefear to export as a tensor\n",
    "  # torch.save(dataset_clouds, \"eval_clouds.pt\")\n",
    "  # torch.save(dataset_views_stochastic_elevation, \"eval_views_stochastic_elevation.pt\")\n",
    "  # torch.save(dataset_views_fixed_elevation, \"eval_views_fixed_elevation.pt\")\n",
    "\n",
    "  # # make a checkpoint in the drive folder\n",
    "  # runcmd(\"cp ./eval_clouds.pt /content/drive/MyDrive\")\n",
    "  # runcmd(\"cp ./eval_views_stochastic_elevation.pt /content/drive/MyDrive\")\n",
    "  # runcmd(\"cp ./eval_views_fixed_elevation.pt /content/drive/MyDrive\")\n",
    "\n",
    "  # save the file in the folder\n",
    "  with open('./eval_clouds.pickle', 'wb') as handle:\n",
    "      pickle.dump(dataset_clouds, handle, protocol=pickle.HIGHEST_PROTOCOL)\n",
    "  with open('./eval_views_stochastic_elevation.pickle', 'wb') as handle:\n",
    "      pickle.dump(dataset_views_stochastic_elevation, handle, protocol=pickle.HIGHEST_PROTOCOL)\n",
    "  with open('./eval_views_fixed_elevation.pickle', 'wb') as handle:\n",
    "      pickle.dump(dataset_views_fixed_elevation, handle, protocol=pickle.HIGHEST_PROTOCOL)\n",
    "\n",
    "  # make a checkpoint in the drive folder\n",
    "  runcmd(\"cp ./eval_clouds.pickle /content/drive/MyDrive\")\n",
    "  runcmd(\"cp ./eval_views_stochastic_elevation.pickle /content/drive/MyDrive\")\n",
    "  runcmd(\"cp ./eval_views_fixed_elevation.pickle /content/drive/MyDrive\")\n",
    "\n",
    "  # Cleanup\n",
    "  runcmd(f\"rm {filename}.zip\", verbose = False)\n",
    "  runcmd(f\"rm -rf {filename}\", verbose = False)"
   ]
  },
  {
   "cell_type": "code",
   "execution_count": 74,
   "metadata": {
    "colab": {
     "base_uri": "https://localhost:8080/",
     "height": 424
    },
    "id": "xIO9GDwqQtPM",
    "outputId": "d7bc5040-afdd-4ace-8b9b-0cb421b20f50"
   },
   "outputs": [
    {
     "data": {
      "text/html": [
       "\n",
       "  <div id=\"df-5840c8d6-3a8d-43f4-ab66-5c34a223fce3\">\n",
       "    <div class=\"colab-df-container\">\n",
       "      <div>\n",
       "<style scoped>\n",
       "    .dataframe tbody tr th:only-of-type {\n",
       "        vertical-align: middle;\n",
       "    }\n",
       "\n",
       "    .dataframe tbody tr th {\n",
       "        vertical-align: top;\n",
       "    }\n",
       "\n",
       "    .dataframe thead th {\n",
       "        text-align: right;\n",
       "    }\n",
       "</style>\n",
       "<table border=\"1\" class=\"dataframe\">\n",
       "  <thead>\n",
       "    <tr style=\"text-align: right;\">\n",
       "      <th></th>\n",
       "      <th>id</th>\n",
       "      <th>synsetId</th>\n",
       "      <th>subSynsetId</th>\n",
       "      <th>modelId</th>\n",
       "      <th>split</th>\n",
       "    </tr>\n",
       "  </thead>\n",
       "  <tbody>\n",
       "    <tr>\n",
       "      <th>0</th>\n",
       "      <td>772</td>\n",
       "      <td>2691156</td>\n",
       "      <td>2690373</td>\n",
       "      <td>521eab9363fdc2a07209009cfb89d4bd</td>\n",
       "      <td>test</td>\n",
       "    </tr>\n",
       "    <tr>\n",
       "      <th>1</th>\n",
       "      <td>1119</td>\n",
       "      <td>2691156</td>\n",
       "      <td>2690373</td>\n",
       "      <td>50da48c8e7644508fca1f1143bb6bc17</td>\n",
       "      <td>test</td>\n",
       "    </tr>\n",
       "    <tr>\n",
       "      <th>2</th>\n",
       "      <td>3325</td>\n",
       "      <td>2691156</td>\n",
       "      <td>2690373</td>\n",
       "      <td>43abe330362164e99be82ec29531a70f</td>\n",
       "      <td>test</td>\n",
       "    </tr>\n",
       "    <tr>\n",
       "      <th>3</th>\n",
       "      <td>4710</td>\n",
       "      <td>2691156</td>\n",
       "      <td>2690373</td>\n",
       "      <td>4ad92be763c2ded8fca1f1143bb6bc17</td>\n",
       "      <td>test</td>\n",
       "    </tr>\n",
       "    <tr>\n",
       "      <th>4</th>\n",
       "      <td>5357</td>\n",
       "      <td>2691156</td>\n",
       "      <td>2690373</td>\n",
       "      <td>d06105ee2a2ae27c51008e496c6cfd2e</td>\n",
       "      <td>test</td>\n",
       "    </tr>\n",
       "    <tr>\n",
       "      <th>...</th>\n",
       "      <td>...</td>\n",
       "      <td>...</td>\n",
       "      <td>...</td>\n",
       "      <td>...</td>\n",
       "      <td>...</td>\n",
       "    </tr>\n",
       "    <tr>\n",
       "      <th>51185</th>\n",
       "      <td>33646</td>\n",
       "      <td>4554684</td>\n",
       "      <td>4554684</td>\n",
       "      <td>e3c637980c8c22eaf4a3d771dd0a0ffa</td>\n",
       "      <td>val</td>\n",
       "    </tr>\n",
       "    <tr>\n",
       "      <th>51186</th>\n",
       "      <td>36894</td>\n",
       "      <td>4554684</td>\n",
       "      <td>4554684</td>\n",
       "      <td>933dc825712acc8ab5a3b8119a3da34a</td>\n",
       "      <td>val</td>\n",
       "    </tr>\n",
       "    <tr>\n",
       "      <th>51187</th>\n",
       "      <td>45769</td>\n",
       "      <td>4554684</td>\n",
       "      <td>4554684</td>\n",
       "      <td>8f9232a493ccf77e46cde67a6a1ea328</td>\n",
       "      <td>val</td>\n",
       "    </tr>\n",
       "    <tr>\n",
       "      <th>51188</th>\n",
       "      <td>49697</td>\n",
       "      <td>4554684</td>\n",
       "      <td>4554684</td>\n",
       "      <td>5517868119f44388a027ae047c88a1b9</td>\n",
       "      <td>val</td>\n",
       "    </tr>\n",
       "    <tr>\n",
       "      <th>51189</th>\n",
       "      <td>50163</td>\n",
       "      <td>4554684</td>\n",
       "      <td>4554684</td>\n",
       "      <td>c709c8a6cb97c8e55c67382e5c978dae</td>\n",
       "      <td>val</td>\n",
       "    </tr>\n",
       "  </tbody>\n",
       "</table>\n",
       "<p>51190 rows × 5 columns</p>\n",
       "</div>\n",
       "      <button class=\"colab-df-convert\" onclick=\"convertToInteractive('df-5840c8d6-3a8d-43f4-ab66-5c34a223fce3')\"\n",
       "              title=\"Convert this dataframe to an interactive table.\"\n",
       "              style=\"display:none;\">\n",
       "        \n",
       "  <svg xmlns=\"http://www.w3.org/2000/svg\" height=\"24px\"viewBox=\"0 0 24 24\"\n",
       "       width=\"24px\">\n",
       "    <path d=\"M0 0h24v24H0V0z\" fill=\"none\"/>\n",
       "    <path d=\"M18.56 5.44l.94 2.06.94-2.06 2.06-.94-2.06-.94-.94-2.06-.94 2.06-2.06.94zm-11 1L8.5 8.5l.94-2.06 2.06-.94-2.06-.94L8.5 2.5l-.94 2.06-2.06.94zm10 10l.94 2.06.94-2.06 2.06-.94-2.06-.94-.94-2.06-.94 2.06-2.06.94z\"/><path d=\"M17.41 7.96l-1.37-1.37c-.4-.4-.92-.59-1.43-.59-.52 0-1.04.2-1.43.59L10.3 9.45l-7.72 7.72c-.78.78-.78 2.05 0 2.83L4 21.41c.39.39.9.59 1.41.59.51 0 1.02-.2 1.41-.59l7.78-7.78 2.81-2.81c.8-.78.8-2.07 0-2.86zM5.41 20L4 18.59l7.72-7.72 1.47 1.35L5.41 20z\"/>\n",
       "  </svg>\n",
       "      </button>\n",
       "      \n",
       "  <style>\n",
       "    .colab-df-container {\n",
       "      display:flex;\n",
       "      flex-wrap:wrap;\n",
       "      gap: 12px;\n",
       "    }\n",
       "\n",
       "    .colab-df-convert {\n",
       "      background-color: #E8F0FE;\n",
       "      border: none;\n",
       "      border-radius: 50%;\n",
       "      cursor: pointer;\n",
       "      display: none;\n",
       "      fill: #1967D2;\n",
       "      height: 32px;\n",
       "      padding: 0 0 0 0;\n",
       "      width: 32px;\n",
       "    }\n",
       "\n",
       "    .colab-df-convert:hover {\n",
       "      background-color: #E2EBFA;\n",
       "      box-shadow: 0px 1px 2px rgba(60, 64, 67, 0.3), 0px 1px 3px 1px rgba(60, 64, 67, 0.15);\n",
       "      fill: #174EA6;\n",
       "    }\n",
       "\n",
       "    [theme=dark] .colab-df-convert {\n",
       "      background-color: #3B4455;\n",
       "      fill: #D2E3FC;\n",
       "    }\n",
       "\n",
       "    [theme=dark] .colab-df-convert:hover {\n",
       "      background-color: #434B5C;\n",
       "      box-shadow: 0px 1px 3px 1px rgba(0, 0, 0, 0.15);\n",
       "      filter: drop-shadow(0px 1px 2px rgba(0, 0, 0, 0.3));\n",
       "      fill: #FFFFFF;\n",
       "    }\n",
       "  </style>\n",
       "\n",
       "      <script>\n",
       "        const buttonEl =\n",
       "          document.querySelector('#df-5840c8d6-3a8d-43f4-ab66-5c34a223fce3 button.colab-df-convert');\n",
       "        buttonEl.style.display =\n",
       "          google.colab.kernel.accessAllowed ? 'block' : 'none';\n",
       "\n",
       "        async function convertToInteractive(key) {\n",
       "          const element = document.querySelector('#df-5840c8d6-3a8d-43f4-ab66-5c34a223fce3');\n",
       "          const dataTable =\n",
       "            await google.colab.kernel.invokeFunction('convertToInteractive',\n",
       "                                                     [key], {});\n",
       "          if (!dataTable) return;\n",
       "\n",
       "          const docLinkHtml = 'Like what you see? Visit the ' +\n",
       "            '<a target=\"_blank\" href=https://colab.research.google.com/notebooks/data_table.ipynb>data table notebook</a>'\n",
       "            + ' to learn more about interactive tables.';\n",
       "          element.innerHTML = '';\n",
       "          dataTable['output_type'] = 'display_data';\n",
       "          await google.colab.output.renderOutput(dataTable, element);\n",
       "          const docLink = document.createElement('div');\n",
       "          docLink.innerHTML = docLinkHtml;\n",
       "          element.appendChild(docLink);\n",
       "        }\n",
       "      </script>\n",
       "    </div>\n",
       "  </div>\n",
       "  "
      ],
      "text/plain": [
       "          id  synsetId  subSynsetId                           modelId split\n",
       "0        772   2691156      2690373  521eab9363fdc2a07209009cfb89d4bd  test\n",
       "1       1119   2691156      2690373  50da48c8e7644508fca1f1143bb6bc17  test\n",
       "2       3325   2691156      2690373  43abe330362164e99be82ec29531a70f  test\n",
       "3       4710   2691156      2690373  4ad92be763c2ded8fca1f1143bb6bc17  test\n",
       "4       5357   2691156      2690373  d06105ee2a2ae27c51008e496c6cfd2e  test\n",
       "...      ...       ...          ...                               ...   ...\n",
       "51185  33646   4554684      4554684  e3c637980c8c22eaf4a3d771dd0a0ffa   val\n",
       "51186  36894   4554684      4554684  933dc825712acc8ab5a3b8119a3da34a   val\n",
       "51187  45769   4554684      4554684  8f9232a493ccf77e46cde67a6a1ea328   val\n",
       "51188  49697   4554684      4554684  5517868119f44388a027ae047c88a1b9   val\n",
       "51189  50163   4554684      4554684  c709c8a6cb97c8e55c67382e5c978dae   val\n",
       "\n",
       "[51190 rows x 5 columns]"
      ]
     },
     "execution_count": 74,
     "metadata": {},
     "output_type": "execute_result"
    }
   ],
   "source": [
    "df"
   ]
  },
  {
   "cell_type": "code",
   "execution_count": 86,
   "metadata": {
    "colab": {
     "base_uri": "https://localhost:8080/"
    },
    "id": "mczq9-QIRtcD",
    "outputId": "c6f926a6-7a85-43bf-c8f6-1d12cdb7be23"
   },
   "outputs": [
    {
     "name": "stdout",
     "output_type": "stream",
     "text": [
      "number of different objects in the dataset:  625\n"
     ]
    }
   ],
   "source": [
    "print('number of different objects in the dataset: ',len(dataset_views_fixed_elevation))"
   ]
  },
  {
   "attachments": {},
   "cell_type": "markdown",
   "metadata": {},
   "source": [
    "#### As an exaple the generatet views of different objects"
   ]
  },
  {
   "cell_type": "code",
   "execution_count": 81,
   "metadata": {
    "colab": {
     "base_uri": "https://localhost:8080/",
     "height": 273
    },
    "id": "31w9fKJLQR_O",
    "outputId": "a700b8f2-5bf0-40da-88e3-35807b3ef651"
   },
   "outputs": [
    {
     "data": {
      "image/png": "[encoded data removed]",
      "text/plain": [
       "<PIL.Image.Image image mode=RGB size=256x256 at 0x7F63622D6B20>"
      ]
     },
     "execution_count": 81,
     "metadata": {},
     "output_type": "execute_result"
    }
   ],
   "source": [
    "dataset_views_fixed_elevation[3][1]"
   ]
  },
  {
   "cell_type": "code",
   "execution_count": 83,
   "metadata": {
    "colab": {
     "base_uri": "https://localhost:8080/",
     "height": 273
    },
    "id": "UFEKj_kcNUxd",
    "outputId": "524286c3-c984-415e-f84d-0bc08ccc5920"
   },
   "outputs": [
    {
     "data": {
      "image/png": "[encoded data removed]",
      "text/plain": [
       "<PIL.Image.Image image mode=RGB size=256x256 at 0x7F63622D6F10>"
      ]
     },
     "execution_count": 83,
     "metadata": {},
     "output_type": "execute_result"
    }
   ],
   "source": [
    "dataset_views_fixed_elevation[0][1]"
   ]
  },
  {
   "cell_type": "code",
   "execution_count": 96,
   "metadata": {
    "colab": {
     "base_uri": "https://localhost:8080/",
     "height": 273
    },
    "id": "frLnp1qjStf3",
    "outputId": "60bfbdec-091b-49e6-f129-363745e490c7"
   },
   "outputs": [
    {
     "data": {
      "image/png": "[encoded data removed]",
      "text/plain": [
       "<PIL.Image.Image image mode=RGB size=256x256 at 0x7F634770F6D0>"
      ]
     },
     "execution_count": 96,
     "metadata": {},
     "output_type": "execute_result"
    }
   ],
   "source": [
    "dataset_views_fixed_elevation[100][3]"
   ]
  },
  {
   "cell_type": "code",
   "execution_count": 103,
   "metadata": {
    "colab": {
     "base_uri": "https://localhost:8080/",
     "height": 273
    },
    "id": "96IQf_fCSmI6",
    "outputId": "b2348a2b-6b55-4bc6-a6bc-cb5f574c355f"
   },
   "outputs": [
    {
     "data": {
      "image/png": "[encoded data removed]",
      "text/plain": [
       "<PIL.Image.Image image mode=RGB size=256x256 at 0x7F63470072B0>"
      ]
     },
     "execution_count": 103,
     "metadata": {},
     "output_type": "execute_result"
    }
   ],
   "source": [
    "dataset_views_fixed_elevation[12][4]"
   ]
  },
  {
   "cell_type": "code",
   "execution_count": 71,
   "metadata": {
    "colab": {
     "base_uri": "https://localhost:8080/",
     "height": 886
    },
    "id": "OKbDX1vzZw1G",
    "outputId": "e01ba8cb-2fd4-4cab-9daa-b7e4b368ef59"
   },
   "outputs": [
    {
     "name": "stdout",
     "output_type": "stream",
     "text": [
      "--2023-02-12 15:12:52--  https://raw.githubusercontent.com/facebookresearch/pytorch3d/main/docs/tutorials/utils/plot_image_grid.py\n",
      "Resolving raw.githubusercontent.com (raw.githubusercontent.com)... 185.199.108.133, 185.199.109.133, 185.199.110.133, ...\n",
      "Connecting to raw.githubusercontent.com (raw.githubusercontent.com)|185.199.108.133|:443... connected.\n",
      "HTTP request sent, awaiting response... 200 OK\n",
      "Length: 1608 (1.6K) [text/plain]\n",
      "Saving to: ‘plot_image_grid.py.1’\n",
      "\n",
      "\rplot_image_grid.py.   0%[                    ]       0  --.-KB/s               \rplot_image_grid.py. 100%[===================>]   1.57K  --.-KB/s    in 0s      \n",
      "\n",
      "2023-02-12 15:12:52 (29.6 MB/s) - ‘plot_image_grid.py.1’ saved [1608/1608]\n",
      "\n"
     ]
    },
    {
     "data": {
      "image/png": "[encoded data removed]",
      "text/plain": [
       "<Figure size 1080x648 with 4 Axes>"
      ]
     },
     "metadata": {
      "needs_background": "light"
     },
     "output_type": "display_data"
    }
   ],
   "source": [
    "!wget https://raw.githubusercontent.com/facebookresearch/pytorch3d/main/docs/tutorials/utils/plot_image_grid.py\n",
    "from plot_image_grid import image_grid\n",
    "\n",
    "image_grid(torch.Tensor(renders).numpy(), rows=2, cols=2, rgb=True)\n",
    "plt.show()"
   ]
  }
 ],
 "metadata": {
  "accelerator": "GPU",
  "colab": {
   "provenance": []
  },
  "gpuClass": "standard",
  "kernelspec": {
   "display_name": "base",
   "language": "python",
   "name": "python3"
  },
  "language_info": {
   "name": "python",
   "version": "3.9.12"
  },
  "vscode": {
   "interpreter": {
    "hash": "3b75c26b910ba516c930507b4337d6cf30fdc3d06c5392aedae0a97adcea4b39"
   }
  }
 },
 "nbformat": 4,
 "nbformat_minor": 0
}
