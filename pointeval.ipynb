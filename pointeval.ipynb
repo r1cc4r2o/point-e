{
  "nbformat": 4,
  "nbformat_minor": 0,
  "metadata": {
    "colab": {
      "provenance": []
    },
    "kernelspec": {
      "name": "python3",
      "display_name": "Python 3"
    },
    "language_info": {
      "name": "python"
    },
    "accelerator": "GPU",
    "gpuClass": "standard",
    "widgets": {
      "application/vnd.jupyter.widget-state+json": {
        "5b102cae32494580a827b2d33a8de8aa": {
          "model_module": "@jupyter-widgets/controls",
          "model_name": "HBoxModel",
          "model_module_version": "1.5.0",
          "state": {
            "_dom_classes": [],
            "_model_module": "@jupyter-widgets/controls",
            "_model_module_version": "1.5.0",
            "_model_name": "HBoxModel",
            "_view_count": null,
            "_view_module": "@jupyter-widgets/controls",
            "_view_module_version": "1.5.0",
            "_view_name": "HBoxView",
            "box_style": "",
            "children": [
              "IPY_MODEL_3d05cbe308ae45dbbd90eedaabc38042",
              "IPY_MODEL_d6514edc8f184a29bba66c2fa3143cfc",
              "IPY_MODEL_208e32fa278c4d3abdaee399d69e507a"
            ],
            "layout": "IPY_MODEL_5724db0c820947db96f7c7023f2b50df"
          }
        },
        "3d05cbe308ae45dbbd90eedaabc38042": {
          "model_module": "@jupyter-widgets/controls",
          "model_name": "HTMLModel",
          "model_module_version": "1.5.0",
          "state": {
            "_dom_classes": [],
            "_model_module": "@jupyter-widgets/controls",
            "_model_module_version": "1.5.0",
            "_model_name": "HTMLModel",
            "_view_count": null,
            "_view_module": "@jupyter-widgets/controls",
            "_view_module_version": "1.5.0",
            "_view_name": "HTMLView",
            "description": "",
            "description_tooltip": null,
            "layout": "IPY_MODEL_6db000adaf9e45b59a5820b8b2d7c5d8",
            "placeholder": "​",
            "style": "IPY_MODEL_c773fb218fc148079535f80a37a68260",
            "value": "100%"
          }
        },
        "d6514edc8f184a29bba66c2fa3143cfc": {
          "model_module": "@jupyter-widgets/controls",
          "model_name": "FloatProgressModel",
          "model_module_version": "1.5.0",
          "state": {
            "_dom_classes": [],
            "_model_module": "@jupyter-widgets/controls",
            "_model_module_version": "1.5.0",
            "_model_name": "FloatProgressModel",
            "_view_count": null,
            "_view_module": "@jupyter-widgets/controls",
            "_view_module_version": "1.5.0",
            "_view_name": "ProgressView",
            "bar_style": "success",
            "description": "",
            "description_tooltip": null,
            "layout": "IPY_MODEL_7cc8a6c84e3a44919e382514a0a03581",
            "max": 4,
            "min": 0,
            "orientation": "horizontal",
            "style": "IPY_MODEL_6e5665b7472f4349bd1ebb7e0b2d8018",
            "value": 4
          }
        },
        "208e32fa278c4d3abdaee399d69e507a": {
          "model_module": "@jupyter-widgets/controls",
          "model_name": "HTMLModel",
          "model_module_version": "1.5.0",
          "state": {
            "_dom_classes": [],
            "_model_module": "@jupyter-widgets/controls",
            "_model_module_version": "1.5.0",
            "_model_name": "HTMLModel",
            "_view_count": null,
            "_view_module": "@jupyter-widgets/controls",
            "_view_module_version": "1.5.0",
            "_view_name": "HTMLView",
            "description": "",
            "description_tooltip": null,
            "layout": "IPY_MODEL_a75f2684f1924ec5aefed38d8d6f6b1d",
            "placeholder": "​",
            "style": "IPY_MODEL_a508166567b84f3c9f782d6cf3c692dd",
            "value": " 4/4 [00:04&lt;00:00,  4.32s/it]"
          }
        },
        "5724db0c820947db96f7c7023f2b50df": {
          "model_module": "@jupyter-widgets/base",
          "model_name": "LayoutModel",
          "model_module_version": "1.2.0",
          "state": {
            "_model_module": "@jupyter-widgets/base",
            "_model_module_version": "1.2.0",
            "_model_name": "LayoutModel",
            "_view_count": null,
            "_view_module": "@jupyter-widgets/base",
            "_view_module_version": "1.2.0",
            "_view_name": "LayoutView",
            "align_content": null,
            "align_items": null,
            "align_self": null,
            "border": null,
            "bottom": null,
            "display": null,
            "flex": null,
            "flex_flow": null,
            "grid_area": null,
            "grid_auto_columns": null,
            "grid_auto_flow": null,
            "grid_auto_rows": null,
            "grid_column": null,
            "grid_gap": null,
            "grid_row": null,
            "grid_template_areas": null,
            "grid_template_columns": null,
            "grid_template_rows": null,
            "height": null,
            "justify_content": null,
            "justify_items": null,
            "left": null,
            "margin": null,
            "max_height": null,
            "max_width": null,
            "min_height": null,
            "min_width": null,
            "object_fit": null,
            "object_position": null,
            "order": null,
            "overflow": null,
            "overflow_x": null,
            "overflow_y": null,
            "padding": null,
            "right": null,
            "top": null,
            "visibility": null,
            "width": null
          }
        },
        "6db000adaf9e45b59a5820b8b2d7c5d8": {
          "model_module": "@jupyter-widgets/base",
          "model_name": "LayoutModel",
          "model_module_version": "1.2.0",
          "state": {
            "_model_module": "@jupyter-widgets/base",
            "_model_module_version": "1.2.0",
            "_model_name": "LayoutModel",
            "_view_count": null,
            "_view_module": "@jupyter-widgets/base",
            "_view_module_version": "1.2.0",
            "_view_name": "LayoutView",
            "align_content": null,
            "align_items": null,
            "align_self": null,
            "border": null,
            "bottom": null,
            "display": null,
            "flex": null,
            "flex_flow": null,
            "grid_area": null,
            "grid_auto_columns": null,
            "grid_auto_flow": null,
            "grid_auto_rows": null,
            "grid_column": null,
            "grid_gap": null,
            "grid_row": null,
            "grid_template_areas": null,
            "grid_template_columns": null,
            "grid_template_rows": null,
            "height": null,
            "justify_content": null,
            "justify_items": null,
            "left": null,
            "margin": null,
            "max_height": null,
            "max_width": null,
            "min_height": null,
            "min_width": null,
            "object_fit": null,
            "object_position": null,
            "order": null,
            "overflow": null,
            "overflow_x": null,
            "overflow_y": null,
            "padding": null,
            "right": null,
            "top": null,
            "visibility": null,
            "width": null
          }
        },
        "c773fb218fc148079535f80a37a68260": {
          "model_module": "@jupyter-widgets/controls",
          "model_name": "DescriptionStyleModel",
          "model_module_version": "1.5.0",
          "state": {
            "_model_module": "@jupyter-widgets/controls",
            "_model_module_version": "1.5.0",
            "_model_name": "DescriptionStyleModel",
            "_view_count": null,
            "_view_module": "@jupyter-widgets/base",
            "_view_module_version": "1.2.0",
            "_view_name": "StyleView",
            "description_width": ""
          }
        },
        "7cc8a6c84e3a44919e382514a0a03581": {
          "model_module": "@jupyter-widgets/base",
          "model_name": "LayoutModel",
          "model_module_version": "1.2.0",
          "state": {
            "_model_module": "@jupyter-widgets/base",
            "_model_module_version": "1.2.0",
            "_model_name": "LayoutModel",
            "_view_count": null,
            "_view_module": "@jupyter-widgets/base",
            "_view_module_version": "1.2.0",
            "_view_name": "LayoutView",
            "align_content": null,
            "align_items": null,
            "align_self": null,
            "border": null,
            "bottom": null,
            "display": null,
            "flex": null,
            "flex_flow": null,
            "grid_area": null,
            "grid_auto_columns": null,
            "grid_auto_flow": null,
            "grid_auto_rows": null,
            "grid_column": null,
            "grid_gap": null,
            "grid_row": null,
            "grid_template_areas": null,
            "grid_template_columns": null,
            "grid_template_rows": null,
            "height": null,
            "justify_content": null,
            "justify_items": null,
            "left": null,
            "margin": null,
            "max_height": null,
            "max_width": null,
            "min_height": null,
            "min_width": null,
            "object_fit": null,
            "object_position": null,
            "order": null,
            "overflow": null,
            "overflow_x": null,
            "overflow_y": null,
            "padding": null,
            "right": null,
            "top": null,
            "visibility": null,
            "width": null
          }
        },
        "6e5665b7472f4349bd1ebb7e0b2d8018": {
          "model_module": "@jupyter-widgets/controls",
          "model_name": "ProgressStyleModel",
          "model_module_version": "1.5.0",
          "state": {
            "_model_module": "@jupyter-widgets/controls",
            "_model_module_version": "1.5.0",
            "_model_name": "ProgressStyleModel",
            "_view_count": null,
            "_view_module": "@jupyter-widgets/base",
            "_view_module_version": "1.2.0",
            "_view_name": "StyleView",
            "bar_color": null,
            "description_width": ""
          }
        },
        "a75f2684f1924ec5aefed38d8d6f6b1d": {
          "model_module": "@jupyter-widgets/base",
          "model_name": "LayoutModel",
          "model_module_version": "1.2.0",
          "state": {
            "_model_module": "@jupyter-widgets/base",
            "_model_module_version": "1.2.0",
            "_model_name": "LayoutModel",
            "_view_count": null,
            "_view_module": "@jupyter-widgets/base",
            "_view_module_version": "1.2.0",
            "_view_name": "LayoutView",
            "align_content": null,
            "align_items": null,
            "align_self": null,
            "border": null,
            "bottom": null,
            "display": null,
            "flex": null,
            "flex_flow": null,
            "grid_area": null,
            "grid_auto_columns": null,
            "grid_auto_flow": null,
            "grid_auto_rows": null,
            "grid_column": null,
            "grid_gap": null,
            "grid_row": null,
            "grid_template_areas": null,
            "grid_template_columns": null,
            "grid_template_rows": null,
            "height": null,
            "justify_content": null,
            "justify_items": null,
            "left": null,
            "margin": null,
            "max_height": null,
            "max_width": null,
            "min_height": null,
            "min_width": null,
            "object_fit": null,
            "object_position": null,
            "order": null,
            "overflow": null,
            "overflow_x": null,
            "overflow_y": null,
            "padding": null,
            "right": null,
            "top": null,
            "visibility": null,
            "width": null
          }
        },
        "a508166567b84f3c9f782d6cf3c692dd": {
          "model_module": "@jupyter-widgets/controls",
          "model_name": "DescriptionStyleModel",
          "model_module_version": "1.5.0",
          "state": {
            "_model_module": "@jupyter-widgets/controls",
            "_model_module_version": "1.5.0",
            "_model_name": "DescriptionStyleModel",
            "_view_count": null,
            "_view_module": "@jupyter-widgets/base",
            "_view_module_version": "1.2.0",
            "_view_name": "StyleView",
            "description_width": ""
          }
        },
        "eab9e1d5faa7436eaa2f0d250580e455": {
          "model_module": "@jupyter-widgets/controls",
          "model_name": "HBoxModel",
          "model_module_version": "1.5.0",
          "state": {
            "_dom_classes": [],
            "_model_module": "@jupyter-widgets/controls",
            "_model_module_version": "1.5.0",
            "_model_name": "HBoxModel",
            "_view_count": null,
            "_view_module": "@jupyter-widgets/controls",
            "_view_module_version": "1.5.0",
            "_view_name": "HBoxView",
            "box_style": "",
            "children": [
              "IPY_MODEL_1bb12301069b4006bbb05c6be650a8c3",
              "IPY_MODEL_50869c2bf3e14c0eaf3970c00d0c8ff6",
              "IPY_MODEL_e4e6332b628b44bea906b04a7e826b08"
            ],
            "layout": "IPY_MODEL_854a773e7db04eff935e6acffbf7899a"
          }
        },
        "1bb12301069b4006bbb05c6be650a8c3": {
          "model_module": "@jupyter-widgets/controls",
          "model_name": "HTMLModel",
          "model_module_version": "1.5.0",
          "state": {
            "_dom_classes": [],
            "_model_module": "@jupyter-widgets/controls",
            "_model_module_version": "1.5.0",
            "_model_name": "HTMLModel",
            "_view_count": null,
            "_view_module": "@jupyter-widgets/controls",
            "_view_module_version": "1.5.0",
            "_view_name": "HTMLView",
            "description": "",
            "description_tooltip": null,
            "layout": "IPY_MODEL_b13ef08df46e44aab9ea478f7d4e3b3b",
            "placeholder": "​",
            "style": "IPY_MODEL_850ebc30a9c24c97bbc38521c8d7e1a6",
            "value": "100%"
          }
        },
        "50869c2bf3e14c0eaf3970c00d0c8ff6": {
          "model_module": "@jupyter-widgets/controls",
          "model_name": "FloatProgressModel",
          "model_module_version": "1.5.0",
          "state": {
            "_dom_classes": [],
            "_model_module": "@jupyter-widgets/controls",
            "_model_module_version": "1.5.0",
            "_model_name": "FloatProgressModel",
            "_view_count": null,
            "_view_module": "@jupyter-widgets/controls",
            "_view_module_version": "1.5.0",
            "_view_name": "ProgressView",
            "bar_style": "success",
            "description": "",
            "description_tooltip": null,
            "layout": "IPY_MODEL_77dd062637214764af0f20464fbd35b7",
            "max": 1247211041,
            "min": 0,
            "orientation": "horizontal",
            "style": "IPY_MODEL_0bd34d8992a94a13b0d04d4a17e371a1",
            "value": 1247211041
          }
        },
        "e4e6332b628b44bea906b04a7e826b08": {
          "model_module": "@jupyter-widgets/controls",
          "model_name": "HTMLModel",
          "model_module_version": "1.5.0",
          "state": {
            "_dom_classes": [],
            "_model_module": "@jupyter-widgets/controls",
            "_model_module_version": "1.5.0",
            "_model_name": "HTMLModel",
            "_view_count": null,
            "_view_module": "@jupyter-widgets/controls",
            "_view_module_version": "1.5.0",
            "_view_name": "HTMLView",
            "description": "",
            "description_tooltip": null,
            "layout": "IPY_MODEL_6ae88220c5ff490ea35cdef844ac17df",
            "placeholder": "​",
            "style": "IPY_MODEL_1b18fec992dd4322b3233f47660cd0cc",
            "value": " 1.25G/1.25G [02:07&lt;00:00, 14.7MiB/s]"
          }
        },
        "854a773e7db04eff935e6acffbf7899a": {
          "model_module": "@jupyter-widgets/base",
          "model_name": "LayoutModel",
          "model_module_version": "1.2.0",
          "state": {
            "_model_module": "@jupyter-widgets/base",
            "_model_module_version": "1.2.0",
            "_model_name": "LayoutModel",
            "_view_count": null,
            "_view_module": "@jupyter-widgets/base",
            "_view_module_version": "1.2.0",
            "_view_name": "LayoutView",
            "align_content": null,
            "align_items": null,
            "align_self": null,
            "border": null,
            "bottom": null,
            "display": null,
            "flex": null,
            "flex_flow": null,
            "grid_area": null,
            "grid_auto_columns": null,
            "grid_auto_flow": null,
            "grid_auto_rows": null,
            "grid_column": null,
            "grid_gap": null,
            "grid_row": null,
            "grid_template_areas": null,
            "grid_template_columns": null,
            "grid_template_rows": null,
            "height": null,
            "justify_content": null,
            "justify_items": null,
            "left": null,
            "margin": null,
            "max_height": null,
            "max_width": null,
            "min_height": null,
            "min_width": null,
            "object_fit": null,
            "object_position": null,
            "order": null,
            "overflow": null,
            "overflow_x": null,
            "overflow_y": null,
            "padding": null,
            "right": null,
            "top": null,
            "visibility": null,
            "width": null
          }
        },
        "b13ef08df46e44aab9ea478f7d4e3b3b": {
          "model_module": "@jupyter-widgets/base",
          "model_name": "LayoutModel",
          "model_module_version": "1.2.0",
          "state": {
            "_model_module": "@jupyter-widgets/base",
            "_model_module_version": "1.2.0",
            "_model_name": "LayoutModel",
            "_view_count": null,
            "_view_module": "@jupyter-widgets/base",
            "_view_module_version": "1.2.0",
            "_view_name": "LayoutView",
            "align_content": null,
            "align_items": null,
            "align_self": null,
            "border": null,
            "bottom": null,
            "display": null,
            "flex": null,
            "flex_flow": null,
            "grid_area": null,
            "grid_auto_columns": null,
            "grid_auto_flow": null,
            "grid_auto_rows": null,
            "grid_column": null,
            "grid_gap": null,
            "grid_row": null,
            "grid_template_areas": null,
            "grid_template_columns": null,
            "grid_template_rows": null,
            "height": null,
            "justify_content": null,
            "justify_items": null,
            "left": null,
            "margin": null,
            "max_height": null,
            "max_width": null,
            "min_height": null,
            "min_width": null,
            "object_fit": null,
            "object_position": null,
            "order": null,
            "overflow": null,
            "overflow_x": null,
            "overflow_y": null,
            "padding": null,
            "right": null,
            "top": null,
            "visibility": null,
            "width": null
          }
        },
        "850ebc30a9c24c97bbc38521c8d7e1a6": {
          "model_module": "@jupyter-widgets/controls",
          "model_name": "DescriptionStyleModel",
          "model_module_version": "1.5.0",
          "state": {
            "_model_module": "@jupyter-widgets/controls",
            "_model_module_version": "1.5.0",
            "_model_name": "DescriptionStyleModel",
            "_view_count": null,
            "_view_module": "@jupyter-widgets/base",
            "_view_module_version": "1.2.0",
            "_view_name": "StyleView",
            "description_width": ""
          }
        },
        "77dd062637214764af0f20464fbd35b7": {
          "model_module": "@jupyter-widgets/base",
          "model_name": "LayoutModel",
          "model_module_version": "1.2.0",
          "state": {
            "_model_module": "@jupyter-widgets/base",
            "_model_module_version": "1.2.0",
            "_model_name": "LayoutModel",
            "_view_count": null,
            "_view_module": "@jupyter-widgets/base",
            "_view_module_version": "1.2.0",
            "_view_name": "LayoutView",
            "align_content": null,
            "align_items": null,
            "align_self": null,
            "border": null,
            "bottom": null,
            "display": null,
            "flex": null,
            "flex_flow": null,
            "grid_area": null,
            "grid_auto_columns": null,
            "grid_auto_flow": null,
            "grid_auto_rows": null,
            "grid_column": null,
            "grid_gap": null,
            "grid_row": null,
            "grid_template_areas": null,
            "grid_template_columns": null,
            "grid_template_rows": null,
            "height": null,
            "justify_content": null,
            "justify_items": null,
            "left": null,
            "margin": null,
            "max_height": null,
            "max_width": null,
            "min_height": null,
            "min_width": null,
            "object_fit": null,
            "object_position": null,
            "order": null,
            "overflow": null,
            "overflow_x": null,
            "overflow_y": null,
            "padding": null,
            "right": null,
            "top": null,
            "visibility": null,
            "width": null
          }
        },
        "0bd34d8992a94a13b0d04d4a17e371a1": {
          "model_module": "@jupyter-widgets/controls",
          "model_name": "ProgressStyleModel",
          "model_module_version": "1.5.0",
          "state": {
            "_model_module": "@jupyter-widgets/controls",
            "_model_module_version": "1.5.0",
            "_model_name": "ProgressStyleModel",
            "_view_count": null,
            "_view_module": "@jupyter-widgets/base",
            "_view_module_version": "1.2.0",
            "_view_name": "StyleView",
            "bar_color": null,
            "description_width": ""
          }
        },
        "6ae88220c5ff490ea35cdef844ac17df": {
          "model_module": "@jupyter-widgets/base",
          "model_name": "LayoutModel",
          "model_module_version": "1.2.0",
          "state": {
            "_model_module": "@jupyter-widgets/base",
            "_model_module_version": "1.2.0",
            "_model_name": "LayoutModel",
            "_view_count": null,
            "_view_module": "@jupyter-widgets/base",
            "_view_module_version": "1.2.0",
            "_view_name": "LayoutView",
            "align_content": null,
            "align_items": null,
            "align_self": null,
            "border": null,
            "bottom": null,
            "display": null,
            "flex": null,
            "flex_flow": null,
            "grid_area": null,
            "grid_auto_columns": null,
            "grid_auto_flow": null,
            "grid_auto_rows": null,
            "grid_column": null,
            "grid_gap": null,
            "grid_row": null,
            "grid_template_areas": null,
            "grid_template_columns": null,
            "grid_template_rows": null,
            "height": null,
            "justify_content": null,
            "justify_items": null,
            "left": null,
            "margin": null,
            "max_height": null,
            "max_width": null,
            "min_height": null,
            "min_width": null,
            "object_fit": null,
            "object_position": null,
            "order": null,
            "overflow": null,
            "overflow_x": null,
            "overflow_y": null,
            "padding": null,
            "right": null,
            "top": null,
            "visibility": null,
            "width": null
          }
        },
        "1b18fec992dd4322b3233f47660cd0cc": {
          "model_module": "@jupyter-widgets/controls",
          "model_name": "DescriptionStyleModel",
          "model_module_version": "1.5.0",
          "state": {
            "_model_module": "@jupyter-widgets/controls",
            "_model_module_version": "1.5.0",
            "_model_name": "DescriptionStyleModel",
            "_view_count": null,
            "_view_module": "@jupyter-widgets/base",
            "_view_module_version": "1.2.0",
            "_view_name": "StyleView",
            "description_width": ""
          }
        },
        "69e0ed2ed2ec42bfa9b8f1bcbb54680d": {
          "model_module": "@jupyter-widgets/controls",
          "model_name": "HBoxModel",
          "model_module_version": "1.5.0",
          "state": {
            "_dom_classes": [],
            "_model_module": "@jupyter-widgets/controls",
            "_model_module_version": "1.5.0",
            "_model_name": "HBoxModel",
            "_view_count": null,
            "_view_module": "@jupyter-widgets/controls",
            "_view_module_version": "1.5.0",
            "_view_name": "HBoxView",
            "box_style": "",
            "children": [
              "IPY_MODEL_2a205b55e7ed4b818dd6213ebbff6879",
              "IPY_MODEL_f24a815a539a4b589ca332866498f9fa",
              "IPY_MODEL_66d27eca5697460f8c7a0bcbebd172be"
            ],
            "layout": "IPY_MODEL_191ffcd5f8bf4e6b985de863f67e3776"
          }
        },
        "2a205b55e7ed4b818dd6213ebbff6879": {
          "model_module": "@jupyter-widgets/controls",
          "model_name": "HTMLModel",
          "model_module_version": "1.5.0",
          "state": {
            "_dom_classes": [],
            "_model_module": "@jupyter-widgets/controls",
            "_model_module_version": "1.5.0",
            "_model_name": "HTMLModel",
            "_view_count": null,
            "_view_module": "@jupyter-widgets/controls",
            "_view_module_version": "1.5.0",
            "_view_name": "HTMLView",
            "description": "",
            "description_tooltip": null,
            "layout": "IPY_MODEL_76d22f2be0ca4ed4835581792ae0e6fb",
            "placeholder": "​",
            "style": "IPY_MODEL_b239c5dcf3064588a5e7c687e645d5ed",
            "value": "100%"
          }
        },
        "f24a815a539a4b589ca332866498f9fa": {
          "model_module": "@jupyter-widgets/controls",
          "model_name": "FloatProgressModel",
          "model_module_version": "1.5.0",
          "state": {
            "_dom_classes": [],
            "_model_module": "@jupyter-widgets/controls",
            "_model_module_version": "1.5.0",
            "_model_name": "FloatProgressModel",
            "_view_count": null,
            "_view_module": "@jupyter-widgets/controls",
            "_view_module_version": "1.5.0",
            "_view_name": "ProgressView",
            "bar_style": "success",
            "description": "",
            "description_tooltip": null,
            "layout": "IPY_MODEL_d6b3d0c9fe8e499d856b804324f3cdb6",
            "max": 161934137,
            "min": 0,
            "orientation": "horizontal",
            "style": "IPY_MODEL_b8375f4724e3417ea0e6e968cfee4d7c",
            "value": 161934137
          }
        },
        "66d27eca5697460f8c7a0bcbebd172be": {
          "model_module": "@jupyter-widgets/controls",
          "model_name": "HTMLModel",
          "model_module_version": "1.5.0",
          "state": {
            "_dom_classes": [],
            "_model_module": "@jupyter-widgets/controls",
            "_model_module_version": "1.5.0",
            "_model_name": "HTMLModel",
            "_view_count": null,
            "_view_module": "@jupyter-widgets/controls",
            "_view_module_version": "1.5.0",
            "_view_name": "HTMLView",
            "description": "",
            "description_tooltip": null,
            "layout": "IPY_MODEL_9152667040e84cbd8fbedaf5fbc3222c",
            "placeholder": "​",
            "style": "IPY_MODEL_b9ea7a71d3da486f8cf7ed3afcbd8928",
            "value": " 162M/162M [00:02&lt;00:00, 99.0MiB/s]"
          }
        },
        "191ffcd5f8bf4e6b985de863f67e3776": {
          "model_module": "@jupyter-widgets/base",
          "model_name": "LayoutModel",
          "model_module_version": "1.2.0",
          "state": {
            "_model_module": "@jupyter-widgets/base",
            "_model_module_version": "1.2.0",
            "_model_name": "LayoutModel",
            "_view_count": null,
            "_view_module": "@jupyter-widgets/base",
            "_view_module_version": "1.2.0",
            "_view_name": "LayoutView",
            "align_content": null,
            "align_items": null,
            "align_self": null,
            "border": null,
            "bottom": null,
            "display": null,
            "flex": null,
            "flex_flow": null,
            "grid_area": null,
            "grid_auto_columns": null,
            "grid_auto_flow": null,
            "grid_auto_rows": null,
            "grid_column": null,
            "grid_gap": null,
            "grid_row": null,
            "grid_template_areas": null,
            "grid_template_columns": null,
            "grid_template_rows": null,
            "height": null,
            "justify_content": null,
            "justify_items": null,
            "left": null,
            "margin": null,
            "max_height": null,
            "max_width": null,
            "min_height": null,
            "min_width": null,
            "object_fit": null,
            "object_position": null,
            "order": null,
            "overflow": null,
            "overflow_x": null,
            "overflow_y": null,
            "padding": null,
            "right": null,
            "top": null,
            "visibility": null,
            "width": null
          }
        },
        "76d22f2be0ca4ed4835581792ae0e6fb": {
          "model_module": "@jupyter-widgets/base",
          "model_name": "LayoutModel",
          "model_module_version": "1.2.0",
          "state": {
            "_model_module": "@jupyter-widgets/base",
            "_model_module_version": "1.2.0",
            "_model_name": "LayoutModel",
            "_view_count": null,
            "_view_module": "@jupyter-widgets/base",
            "_view_module_version": "1.2.0",
            "_view_name": "LayoutView",
            "align_content": null,
            "align_items": null,
            "align_self": null,
            "border": null,
            "bottom": null,
            "display": null,
            "flex": null,
            "flex_flow": null,
            "grid_area": null,
            "grid_auto_columns": null,
            "grid_auto_flow": null,
            "grid_auto_rows": null,
            "grid_column": null,
            "grid_gap": null,
            "grid_row": null,
            "grid_template_areas": null,
            "grid_template_columns": null,
            "grid_template_rows": null,
            "height": null,
            "justify_content": null,
            "justify_items": null,
            "left": null,
            "margin": null,
            "max_height": null,
            "max_width": null,
            "min_height": null,
            "min_width": null,
            "object_fit": null,
            "object_position": null,
            "order": null,
            "overflow": null,
            "overflow_x": null,
            "overflow_y": null,
            "padding": null,
            "right": null,
            "top": null,
            "visibility": null,
            "width": null
          }
        },
        "b239c5dcf3064588a5e7c687e645d5ed": {
          "model_module": "@jupyter-widgets/controls",
          "model_name": "DescriptionStyleModel",
          "model_module_version": "1.5.0",
          "state": {
            "_model_module": "@jupyter-widgets/controls",
            "_model_module_version": "1.5.0",
            "_model_name": "DescriptionStyleModel",
            "_view_count": null,
            "_view_module": "@jupyter-widgets/base",
            "_view_module_version": "1.2.0",
            "_view_name": "StyleView",
            "description_width": ""
          }
        },
        "d6b3d0c9fe8e499d856b804324f3cdb6": {
          "model_module": "@jupyter-widgets/base",
          "model_name": "LayoutModel",
          "model_module_version": "1.2.0",
          "state": {
            "_model_module": "@jupyter-widgets/base",
            "_model_module_version": "1.2.0",
            "_model_name": "LayoutModel",
            "_view_count": null,
            "_view_module": "@jupyter-widgets/base",
            "_view_module_version": "1.2.0",
            "_view_name": "LayoutView",
            "align_content": null,
            "align_items": null,
            "align_self": null,
            "border": null,
            "bottom": null,
            "display": null,
            "flex": null,
            "flex_flow": null,
            "grid_area": null,
            "grid_auto_columns": null,
            "grid_auto_flow": null,
            "grid_auto_rows": null,
            "grid_column": null,
            "grid_gap": null,
            "grid_row": null,
            "grid_template_areas": null,
            "grid_template_columns": null,
            "grid_template_rows": null,
            "height": null,
            "justify_content": null,
            "justify_items": null,
            "left": null,
            "margin": null,
            "max_height": null,
            "max_width": null,
            "min_height": null,
            "min_width": null,
            "object_fit": null,
            "object_position": null,
            "order": null,
            "overflow": null,
            "overflow_x": null,
            "overflow_y": null,
            "padding": null,
            "right": null,
            "top": null,
            "visibility": null,
            "width": null
          }
        },
        "b8375f4724e3417ea0e6e968cfee4d7c": {
          "model_module": "@jupyter-widgets/controls",
          "model_name": "ProgressStyleModel",
          "model_module_version": "1.5.0",
          "state": {
            "_model_module": "@jupyter-widgets/controls",
            "_model_module_version": "1.5.0",
            "_model_name": "ProgressStyleModel",
            "_view_count": null,
            "_view_module": "@jupyter-widgets/base",
            "_view_module_version": "1.2.0",
            "_view_name": "StyleView",
            "bar_color": null,
            "description_width": ""
          }
        },
        "9152667040e84cbd8fbedaf5fbc3222c": {
          "model_module": "@jupyter-widgets/base",
          "model_name": "LayoutModel",
          "model_module_version": "1.2.0",
          "state": {
            "_model_module": "@jupyter-widgets/base",
            "_model_module_version": "1.2.0",
            "_model_name": "LayoutModel",
            "_view_count": null,
            "_view_module": "@jupyter-widgets/base",
            "_view_module_version": "1.2.0",
            "_view_name": "LayoutView",
            "align_content": null,
            "align_items": null,
            "align_self": null,
            "border": null,
            "bottom": null,
            "display": null,
            "flex": null,
            "flex_flow": null,
            "grid_area": null,
            "grid_auto_columns": null,
            "grid_auto_flow": null,
            "grid_auto_rows": null,
            "grid_column": null,
            "grid_gap": null,
            "grid_row": null,
            "grid_template_areas": null,
            "grid_template_columns": null,
            "grid_template_rows": null,
            "height": null,
            "justify_content": null,
            "justify_items": null,
            "left": null,
            "margin": null,
            "max_height": null,
            "max_width": null,
            "min_height": null,
            "min_width": null,
            "object_fit": null,
            "object_position": null,
            "order": null,
            "overflow": null,
            "overflow_x": null,
            "overflow_y": null,
            "padding": null,
            "right": null,
            "top": null,
            "visibility": null,
            "width": null
          }
        },
        "b9ea7a71d3da486f8cf7ed3afcbd8928": {
          "model_module": "@jupyter-widgets/controls",
          "model_name": "DescriptionStyleModel",
          "model_module_version": "1.5.0",
          "state": {
            "_model_module": "@jupyter-widgets/controls",
            "_model_module_version": "1.5.0",
            "_model_name": "DescriptionStyleModel",
            "_view_count": null,
            "_view_module": "@jupyter-widgets/base",
            "_view_module_version": "1.2.0",
            "_view_name": "StyleView",
            "description_width": ""
          }
        },
        "23fac1116d544737bb1a3e9ab7e01fc4": {
          "model_module": "@jupyter-widgets/controls",
          "model_name": "HBoxModel",
          "model_module_version": "1.5.0",
          "state": {
            "_dom_classes": [],
            "_model_module": "@jupyter-widgets/controls",
            "_model_module_version": "1.5.0",
            "_model_name": "HBoxModel",
            "_view_count": null,
            "_view_module": "@jupyter-widgets/controls",
            "_view_module_version": "1.5.0",
            "_view_name": "HBoxView",
            "box_style": "",
            "children": [
              "IPY_MODEL_bf04f2c2eb224eb29d675d2f0c7aa55e",
              "IPY_MODEL_92c7d9f962914e4b987a7c07e9b2eb5f",
              "IPY_MODEL_5999f61201c844f2a5d9ecb69eadc43c"
            ],
            "layout": "IPY_MODEL_16797ca9dedd48539bd9d7987ab22f2b"
          }
        },
        "bf04f2c2eb224eb29d675d2f0c7aa55e": {
          "model_module": "@jupyter-widgets/controls",
          "model_name": "HTMLModel",
          "model_module_version": "1.5.0",
          "state": {
            "_dom_classes": [],
            "_model_module": "@jupyter-widgets/controls",
            "_model_module_version": "1.5.0",
            "_model_name": "HTMLModel",
            "_view_count": null,
            "_view_module": "@jupyter-widgets/controls",
            "_view_module_version": "1.5.0",
            "_view_name": "HTMLView",
            "description": "",
            "description_tooltip": null,
            "layout": "IPY_MODEL_eb17a14e2189409c814cc9948ea53dcf",
            "placeholder": "​",
            "style": "IPY_MODEL_faca49abfe2e4db4a7f9d1506fdd53a9",
            "value": ""
          }
        },
        "92c7d9f962914e4b987a7c07e9b2eb5f": {
          "model_module": "@jupyter-widgets/controls",
          "model_name": "FloatProgressModel",
          "model_module_version": "1.5.0",
          "state": {
            "_dom_classes": [],
            "_model_module": "@jupyter-widgets/controls",
            "_model_module_version": "1.5.0",
            "_model_name": "FloatProgressModel",
            "_view_count": null,
            "_view_module": "@jupyter-widgets/controls",
            "_view_module_version": "1.5.0",
            "_view_name": "ProgressView",
            "bar_style": "success",
            "description": "",
            "description_tooltip": null,
            "layout": "IPY_MODEL_fa3c1c61ffde45c295ccdac967128404",
            "max": 1,
            "min": 0,
            "orientation": "horizontal",
            "style": "IPY_MODEL_c384ac8868844afca259e60673ed34eb",
            "value": 1
          }
        },
        "5999f61201c844f2a5d9ecb69eadc43c": {
          "model_module": "@jupyter-widgets/controls",
          "model_name": "HTMLModel",
          "model_module_version": "1.5.0",
          "state": {
            "_dom_classes": [],
            "_model_module": "@jupyter-widgets/controls",
            "_model_module_version": "1.5.0",
            "_model_name": "HTMLModel",
            "_view_count": null,
            "_view_module": "@jupyter-widgets/controls",
            "_view_module_version": "1.5.0",
            "_view_name": "HTMLView",
            "description": "",
            "description_tooltip": null,
            "layout": "IPY_MODEL_14a2c333022644ce9b7b968b2bcf5441",
            "placeholder": "​",
            "style": "IPY_MODEL_63396284dd324a7fb52d8f5ec4e59799",
            "value": " 130/? [04:22&lt;00:00,  1.84s/it]"
          }
        },
        "16797ca9dedd48539bd9d7987ab22f2b": {
          "model_module": "@jupyter-widgets/base",
          "model_name": "LayoutModel",
          "model_module_version": "1.2.0",
          "state": {
            "_model_module": "@jupyter-widgets/base",
            "_model_module_version": "1.2.0",
            "_model_name": "LayoutModel",
            "_view_count": null,
            "_view_module": "@jupyter-widgets/base",
            "_view_module_version": "1.2.0",
            "_view_name": "LayoutView",
            "align_content": null,
            "align_items": null,
            "align_self": null,
            "border": null,
            "bottom": null,
            "display": null,
            "flex": null,
            "flex_flow": null,
            "grid_area": null,
            "grid_auto_columns": null,
            "grid_auto_flow": null,
            "grid_auto_rows": null,
            "grid_column": null,
            "grid_gap": null,
            "grid_row": null,
            "grid_template_areas": null,
            "grid_template_columns": null,
            "grid_template_rows": null,
            "height": null,
            "justify_content": null,
            "justify_items": null,
            "left": null,
            "margin": null,
            "max_height": null,
            "max_width": null,
            "min_height": null,
            "min_width": null,
            "object_fit": null,
            "object_position": null,
            "order": null,
            "overflow": null,
            "overflow_x": null,
            "overflow_y": null,
            "padding": null,
            "right": null,
            "top": null,
            "visibility": null,
            "width": null
          }
        },
        "eb17a14e2189409c814cc9948ea53dcf": {
          "model_module": "@jupyter-widgets/base",
          "model_name": "LayoutModel",
          "model_module_version": "1.2.0",
          "state": {
            "_model_module": "@jupyter-widgets/base",
            "_model_module_version": "1.2.0",
            "_model_name": "LayoutModel",
            "_view_count": null,
            "_view_module": "@jupyter-widgets/base",
            "_view_module_version": "1.2.0",
            "_view_name": "LayoutView",
            "align_content": null,
            "align_items": null,
            "align_self": null,
            "border": null,
            "bottom": null,
            "display": null,
            "flex": null,
            "flex_flow": null,
            "grid_area": null,
            "grid_auto_columns": null,
            "grid_auto_flow": null,
            "grid_auto_rows": null,
            "grid_column": null,
            "grid_gap": null,
            "grid_row": null,
            "grid_template_areas": null,
            "grid_template_columns": null,
            "grid_template_rows": null,
            "height": null,
            "justify_content": null,
            "justify_items": null,
            "left": null,
            "margin": null,
            "max_height": null,
            "max_width": null,
            "min_height": null,
            "min_width": null,
            "object_fit": null,
            "object_position": null,
            "order": null,
            "overflow": null,
            "overflow_x": null,
            "overflow_y": null,
            "padding": null,
            "right": null,
            "top": null,
            "visibility": null,
            "width": null
          }
        },
        "faca49abfe2e4db4a7f9d1506fdd53a9": {
          "model_module": "@jupyter-widgets/controls",
          "model_name": "DescriptionStyleModel",
          "model_module_version": "1.5.0",
          "state": {
            "_model_module": "@jupyter-widgets/controls",
            "_model_module_version": "1.5.0",
            "_model_name": "DescriptionStyleModel",
            "_view_count": null,
            "_view_module": "@jupyter-widgets/base",
            "_view_module_version": "1.2.0",
            "_view_name": "StyleView",
            "description_width": ""
          }
        },
        "fa3c1c61ffde45c295ccdac967128404": {
          "model_module": "@jupyter-widgets/base",
          "model_name": "LayoutModel",
          "model_module_version": "1.2.0",
          "state": {
            "_model_module": "@jupyter-widgets/base",
            "_model_module_version": "1.2.0",
            "_model_name": "LayoutModel",
            "_view_count": null,
            "_view_module": "@jupyter-widgets/base",
            "_view_module_version": "1.2.0",
            "_view_name": "LayoutView",
            "align_content": null,
            "align_items": null,
            "align_self": null,
            "border": null,
            "bottom": null,
            "display": null,
            "flex": null,
            "flex_flow": null,
            "grid_area": null,
            "grid_auto_columns": null,
            "grid_auto_flow": null,
            "grid_auto_rows": null,
            "grid_column": null,
            "grid_gap": null,
            "grid_row": null,
            "grid_template_areas": null,
            "grid_template_columns": null,
            "grid_template_rows": null,
            "height": null,
            "justify_content": null,
            "justify_items": null,
            "left": null,
            "margin": null,
            "max_height": null,
            "max_width": null,
            "min_height": null,
            "min_width": null,
            "object_fit": null,
            "object_position": null,
            "order": null,
            "overflow": null,
            "overflow_x": null,
            "overflow_y": null,
            "padding": null,
            "right": null,
            "top": null,
            "visibility": null,
            "width": "20px"
          }
        },
        "c384ac8868844afca259e60673ed34eb": {
          "model_module": "@jupyter-widgets/controls",
          "model_name": "ProgressStyleModel",
          "model_module_version": "1.5.0",
          "state": {
            "_model_module": "@jupyter-widgets/controls",
            "_model_module_version": "1.5.0",
            "_model_name": "ProgressStyleModel",
            "_view_count": null,
            "_view_module": "@jupyter-widgets/base",
            "_view_module_version": "1.2.0",
            "_view_name": "StyleView",
            "bar_color": null,
            "description_width": ""
          }
        },
        "14a2c333022644ce9b7b968b2bcf5441": {
          "model_module": "@jupyter-widgets/base",
          "model_name": "LayoutModel",
          "model_module_version": "1.2.0",
          "state": {
            "_model_module": "@jupyter-widgets/base",
            "_model_module_version": "1.2.0",
            "_model_name": "LayoutModel",
            "_view_count": null,
            "_view_module": "@jupyter-widgets/base",
            "_view_module_version": "1.2.0",
            "_view_name": "LayoutView",
            "align_content": null,
            "align_items": null,
            "align_self": null,
            "border": null,
            "bottom": null,
            "display": null,
            "flex": null,
            "flex_flow": null,
            "grid_area": null,
            "grid_auto_columns": null,
            "grid_auto_flow": null,
            "grid_auto_rows": null,
            "grid_column": null,
            "grid_gap": null,
            "grid_row": null,
            "grid_template_areas": null,
            "grid_template_columns": null,
            "grid_template_rows": null,
            "height": null,
            "justify_content": null,
            "justify_items": null,
            "left": null,
            "margin": null,
            "max_height": null,
            "max_width": null,
            "min_height": null,
            "min_width": null,
            "object_fit": null,
            "object_position": null,
            "order": null,
            "overflow": null,
            "overflow_x": null,
            "overflow_y": null,
            "padding": null,
            "right": null,
            "top": null,
            "visibility": null,
            "width": null
          }
        },
        "63396284dd324a7fb52d8f5ec4e59799": {
          "model_module": "@jupyter-widgets/controls",
          "model_name": "DescriptionStyleModel",
          "model_module_version": "1.5.0",
          "state": {
            "_model_module": "@jupyter-widgets/controls",
            "_model_module_version": "1.5.0",
            "_model_name": "DescriptionStyleModel",
            "_view_count": null,
            "_view_module": "@jupyter-widgets/base",
            "_view_module_version": "1.2.0",
            "_view_name": "StyleView",
            "description_width": ""
          }
        }
      }
    }
  },
  "cells": [
    {
      "cell_type": "code",
      "execution_count": 6,
      "metadata": {
        "colab": {
          "base_uri": "https://localhost:8080/"
        },
        "id": "Dlkun-vcuz6R",
        "outputId": "80f89df4-f852-4a15-d2bf-6ea2365e230d"
      },
      "outputs": [
        {
          "output_type": "stream",
          "name": "stdout",
          "text": [
            "Looking in indexes: https://pypi.org/simple, https://us-python.pkg.dev/colab-wheels/public/simple/\n",
            "Requirement already satisfied: trimesh in /usr/local/lib/python3.8/dist-packages (3.18.3)\n",
            "Requirement already satisfied: numpy in /usr/local/lib/python3.8/dist-packages (from trimesh) (1.21.6)\n",
            "--2023-02-07 21:34:43--  https://raw.githubusercontent.com/facebookresearch/pytorch3d/main/docs/tutorials/utils/plot_image_grid.py\n",
            "Resolving raw.githubusercontent.com (raw.githubusercontent.com)... 185.199.108.133, 185.199.109.133, 185.199.110.133, ...\n",
            "Connecting to raw.githubusercontent.com (raw.githubusercontent.com)|185.199.108.133|:443... connected.\n",
            "HTTP request sent, awaiting response... 200 OK\n",
            "Length: 1608 (1.6K) [text/plain]\n",
            "Saving to: ‘plot_image_grid.py.2’\n",
            "\n",
            "plot_image_grid.py. 100%[===================>]   1.57K  --.-KB/s    in 0s      \n",
            "\n",
            "2023-02-07 21:34:43 (32.3 MB/s) - ‘plot_image_grid.py.2’ saved [1608/1608]\n",
            "\n"
          ]
        }
      ],
      "source": [
        "import torch\n",
        "from google.colab import files\n",
        "# install the latest release of PyTorch3D\n",
        "import os\n",
        "import sys\n",
        "import torch\n",
        "need_pytorch3d=False\n",
        "try:\n",
        "    import pytorch3d\n",
        "except ModuleNotFoundError:\n",
        "    need_pytorch3d=True\n",
        "if need_pytorch3d:\n",
        "    if torch.__version__.startswith(\"1.13.\") and sys.platform.startswith(\"linux\"):\n",
        "        # We try to install PyTorch3D via a released wheel.\n",
        "        pyt_version_str=torch.__version__.split(\"+\")[0].replace(\".\", \"\")\n",
        "        version_str=\"\".join([\n",
        "            f\"py3{sys.version_info.minor}_cu\",\n",
        "            torch.version.cuda.replace(\".\",\"\"),\n",
        "            f\"_pyt{pyt_version_str}\"\n",
        "        ])\n",
        "        !pip install fvcore iopath\n",
        "        !pip install --no-index --no-cache-dir pytorch3d -f https://dl.fbaipublicfiles.com/pytorch3d/packaging/wheels/{version_str}/download.html\n",
        "    else:\n",
        "        # We try to install PyTorch3D from source.\n",
        "        !curl -LO https://github.com/NVIDIA/cub/archive/1.10.0.tar.gz\n",
        "        !tar xzf 1.10.0.tar.gz\n",
        "        os.environ[\"CUB_HOME\"] = os.getcwd() + \"/cub-1.10.0\"\n",
        "        !pip install 'git+https://github.com/facebookresearch/pytorch3d.git@stable'\n",
        "\n",
        "\n",
        "# add path for demo utils functions \n",
        "import sys\n",
        "import os\n",
        "\n",
        "from scipy.spatial import distance\n",
        "import tqdm\n",
        "import torch\n",
        "import numpy as np\n",
        "import pandas as pd\n",
        "import torch.nn.functional as F\n",
        "import matplotlib.pyplot as plt\n",
        "\n",
        "\n",
        "# Util function for loading meshes\n",
        "from pytorch3d.io import load_objs_as_meshes, load_obj\n",
        "# Data structures and functions for rendering\n",
        "from pytorch3d.ops import sample_points_from_meshes\n",
        "from pytorch3d.loss import chamfer_distance\n",
        "from pytorch3d.structures import Meshes\n",
        "from pytorch3d.vis.texture_vis import texturesuv_image_matplotlib\n",
        "from pytorch3d.structures import Pointclouds\n",
        "from pytorch3d.vis.plotly_vis import AxisArgs, plot_batch_individually, plot_scene\n",
        "from pytorch3d.renderer import (\n",
        "    look_at_view_transform,\n",
        "    FoVOrthographicCameras, \n",
        "    PointsRasterizationSettings,\n",
        "    PointsRenderer,\n",
        "    PulsarPointsRenderer,\n",
        "    PointsRasterizer,\n",
        "    AlphaCompositor,\n",
        "    NormWeightedCompositor,\n",
        "    PointLights, \n",
        "    DirectionalLights, \n",
        "    Materials, \n",
        "    RasterizationSettings, \n",
        "    MeshRenderer, \n",
        "    MeshRasterizer,  \n",
        "    SoftPhongShader,\n",
        "    TexturesUV,\n",
        "    SoftSilhouetteShader,\n",
        "    TexturesVertex\n",
        ")\n",
        "\n",
        "!pip install trimesh # install trimesh\n",
        "import glob\n",
        "import trimesh\n",
        "import numpy as np\n",
        "import tensorflow as tf\n",
        "from tensorflow import keras\n",
        "from tensorflow.keras import layers\n",
        "\n",
        "tf.random.set_seed(1234)\n",
        "\n",
        "\n",
        "!wget https://raw.githubusercontent.com/facebookresearch/pytorch3d/main/docs/tutorials/utils/plot_image_grid.py\n",
        "from plot_image_grid import image_grid\n",
        "\n",
        "\n",
        "from pytorch3d.structures import Pointclouds\n",
        "from pytorch3d.vis.plotly_vis import AxisArgs, plot_batch_individually, plot_scene\n",
        "from pytorch3d.renderer import (\n",
        "    look_at_view_transform,\n",
        "    FoVOrthographicCameras, \n",
        "    PointsRasterizationSettings,\n",
        "    PointsRenderer,\n",
        "    PulsarPointsRenderer,\n",
        "    PointsRasterizer,\n",
        "    AlphaCompositor,\n",
        "    NormWeightedCompositor\n",
        ")\n",
        "import pytorch3d\n",
        "import torch\n",
        "from pytorch3d.renderer import (\n",
        "    AlphaCompositor,\n",
        "    RasterizationSettings,\n",
        "    MeshRenderer,\n",
        "    MeshRasterizer,\n",
        "    PointsRasterizationSettings,\n",
        "    PointsRenderer,\n",
        "    PointsRasterizer,\n",
        "    HardPhongShader,\n",
        ")\n",
        "from pytorch3d.io import load_obj\n",
        "from tqdm import tqdm\n",
        "from PIL import Image, ImageDraw\n",
        "from pytorch3d.io import IO\n",
        "\n",
        "# Setup cuda\n",
        "if torch.cuda.is_available():\n",
        "    device = torch.device(\"cuda:0\")\n",
        "    torch.cuda.set_device(device)\n",
        "else:\n",
        "    device = torch.device(\"cpu\")"
      ]
    },
    {
      "cell_type": "code",
      "source": [
        "# image generator\n",
        "def image_gen(renders):\n",
        "  images = []\n",
        "  for i, r in enumerate(renders):\n",
        "      image = Image.fromarray((r * 255).astype(np.uint8))\n",
        "      draw = ImageDraw.Draw(image)\n",
        "      images.append(np.array(image))\n",
        "  return images\n",
        "# Setup cuda\n",
        "if torch.cuda.is_available():\n",
        "    device = torch.device(\"cuda:0\")\n",
        "    torch.cuda.set_device(device)\n",
        "else:\n",
        "    device = torch.device(\"cpu\")\n",
        "\n",
        "# that function render the pointcloud\n",
        "def get_points_renderer(\n",
        "    image_size=512, device=None, radius=0.01, background_color=(1, 1, 1)\n",
        "):\n",
        "    \"\"\" source: https://github.com/learning3d/assignment1/blob/master/starter/utils.py\n",
        "    Returns a Pytorch3D renderer for point clouds.\n",
        "    Args:\n",
        "        image_size (int): The rendered image size.\n",
        "        device (torch.device): The torch device to use (CPU or GPU). If not specified,\n",
        "            will automatically use GPU if available, otherwise CPU.\n",
        "        radius (float): The radius of the rendered point in NDC.\n",
        "        background_color (tuple): The background color of the rendered image.\n",
        "    \n",
        "    Returns:\n",
        "        PointsRenderer.\n",
        "    \"\"\"\n",
        "    if device is None:\n",
        "        if torch.cuda.is_available():\n",
        "            device = torch.device(\"cuda:0\")\n",
        "        else:\n",
        "            device = torch.device(\"cpu\")\n",
        "    raster_settings = PointsRasterizationSettings(image_size=image_size, radius=radius,)\n",
        "    renderer = PointsRenderer(\n",
        "        rasterizer=PointsRasterizer(raster_settings=raster_settings),\n",
        "        compositor=AlphaCompositor(background_color=background_color),\n",
        "    )\n",
        "    return renderer\n",
        "\n",
        "def get_mesh_renderer(image_size=512, lights=None, device=None):\n",
        "    \"\"\"\n",
        "    Returns a Pytorch3D Mesh Renderer.\n",
        "    Args:\n",
        "        image_size (int): The rendered image size.\n",
        "        lights: A default Pytorch3D lights object.\n",
        "        device (torch.device): The torch device to use (CPU or GPU). If not specified,\n",
        "            will automatically use GPU if available, otherwise CPU.\n",
        "    \"\"\"\n",
        "    if device is None:\n",
        "        if torch.cuda.is_available():\n",
        "            device = torch.device(\"cuda:0\")\n",
        "        else:\n",
        "            device = torch.device(\"cpu\")\n",
        "    raster_settings = RasterizationSettings(\n",
        "        image_size=image_size, blur_radius=0.0, faces_per_pixel=1,\n",
        "    )\n",
        "    renderer = MeshRenderer(\n",
        "        rasterizer=MeshRasterizer(cameras=cameras,raster_settings=raster_settings),\n",
        "        shader=HardPhongShader(device=device, lights=lights),\n",
        "    )\n",
        "    return renderer"
      ],
      "metadata": {
        "id": "hMoDXb3dz7i0"
      },
      "execution_count": 14,
      "outputs": []
    },
    {
      "cell_type": "markdown",
      "source": [
        "# ***DISTRIBUTION SCORE***"
      ],
      "metadata": {
        "id": "LEXql-GQvjXp"
      }
    },
    {
      "cell_type": "code",
      "source": [
        "import numpy as np\n",
        "from numba import cuda\n",
        "\n",
        "USE_64 = True\n",
        "\n",
        "if USE_64:\n",
        "    bits = 64\n",
        "    np_type = np.float64\n",
        "else:\n",
        "    bits = 32\n",
        "    np_type = np.float32\n",
        "\n",
        "@cuda.jit(\"void(float{}[:, :], float{}[:, :])\".format(bits, bits))\n",
        "def distance_matrix(mat, out):\n",
        "    m = mat.shape[0]\n",
        "    n = mat.shape[1]\n",
        "    i, j = cuda.grid(2)\n",
        "    d = 0\n",
        "    if i < m and j < m:\n",
        "        for k in range(n):\n",
        "            tmp = mat[i, k] - mat[j, k]\n",
        "            d += tmp * tmp\n",
        "        out[i, j] = d\n",
        "\n",
        "def gpu_dist_matrix(mat):\n",
        "    rows = mat.shape[0]\n",
        "\n",
        "    block_dim = (16, 16)\n",
        "    grid_dim = (int(rows/block_dim[0] + 1), int(rows/block_dim[1] + 1))\n",
        "\n",
        "    stream = cuda.stream()\n",
        "    mat2 = cuda.to_device(np.asarray(mat, dtype=np_type), stream=stream)\n",
        "    out2 = cuda.device_array((rows, rows))\n",
        "    distance_matrix[grid_dim, block_dim](mat2, out2)\n",
        "    out = out2.copy_to_host(stream=stream)\n",
        "\n",
        "    return out\n",
        "\n",
        "\n",
        "# I generate the point cloud of two different objects\n",
        "\n",
        "verts, faces, _ = load_obj(\"/airboat.obj\")\n",
        "mesh = Meshes(verts=[verts], faces=[faces.verts_idx]).to(device)\n",
        "point_cloud = sample_points_from_meshes(mesh, 4096)\n",
        "\n",
        "# generate the distance matrix between each pair of variables\n",
        "X=np.array(gpu_dist_matrix(point_cloud[0].cpu()))\n",
        "\n",
        "\n",
        "verts, faces, _ = load_obj(\"/al.obj\")\n",
        "mesh = Meshes(verts=[verts], faces=[faces.verts_idx]).to(device)\n",
        "point_cloud = sample_points_from_meshes(mesh, 4096)\n",
        "\n",
        "# generate the distance matrix between each pair of variables\n",
        "Y=np.array(gpu_dist_matrix(point_cloud[0].cpu()))\n",
        "\n",
        "\n",
        "verts, faces, _ = load_obj(\"/sandal.obj\")\n",
        "mesh = Meshes(verts=[verts], faces=[faces.verts_idx]).to(device)\n",
        "point_cloud = sample_points_from_meshes(mesh, 4096)\n",
        "\n",
        "# generate the distance matrix between each pair of variables\n",
        "Z=np.array(gpu_dist_matrix(point_cloud[0].cpu()))\n",
        "\n"
      ],
      "metadata": {
        "id": "967PBXEJvhWj"
      },
      "execution_count": 7,
      "outputs": []
    },
    {
      "cell_type": "code",
      "source": [
        "s = pd.DataFrame({\n",
        "    'airboat': [1/i.sum() for i in X],\n",
        "    'al': [1/i.sum() for i in Y],\n",
        "    'sandal': [1/i.sum() for i in Z],\n",
        "  })\n",
        "\n",
        "s.plot.kde(bw_method=0.4,figsize=(24,8),title='poincloud pdf of different objects')\n",
        "ax1 = plt.axes()\n",
        "y_axis = ax1.axes.get_yaxis()\n",
        "y_axis.set_visible(False)\n",
        "plt.show()\n",
        "plt.close()"
      ],
      "metadata": {
        "id": "HP5jjRCjvhY_",
        "colab": {
          "base_uri": "https://localhost:8080/",
          "height": 566
        },
        "outputId": "916e7134-ac09-4fd6-ff25-88aebff47be2"
      },
      "execution_count": 8,
      "outputs": [
        {
          "output_type": "stream",
          "name": "stderr",
          "text": [
            "<ipython-input-8-1173ebf96727>:8: MatplotlibDeprecationWarning: Adding an axes using the same arguments as a previous axes currently reuses the earlier instance.  In a future version, a new instance will always be created and returned.  Meanwhile, this warning can be suppressed, and the future behavior ensured, by passing a unique label to each axes instance.\n",
            "  ax1 = plt.axes()\n"
          ]
        },
        {
          "output_type": "display_data",
          "data": {
            "text/plain": [
              "<Figure size 1728x576 with 1 Axes>"
            ],
            "image/png": "[encoded data removed]"
          },
          "metadata": {
            "needs_background": "light"
          }
        }
      ]
    },
    {
      "cell_type": "code",
      "source": [],
      "metadata": {
        "id": "4HeFXTSOvhb3"
      },
      "execution_count": 8,
      "outputs": []
    },
    {
      "cell_type": "markdown",
      "source": [
        "# ***generate the object with point-e***\n"
      ],
      "metadata": {
        "id": "zFrlsKZEv24m"
      }
    },
    {
      "cell_type": "code",
      "source": [
        "!git clone -b multiview https://github.com/halixness/point-e\n",
        "%cd point-e/"
      ],
      "metadata": {
        "id": "STX1nTFhvhe_",
        "colab": {
          "base_uri": "https://localhost:8080/"
        },
        "outputId": "284694e2-302f-46dc-95ef-6b04777f1dac"
      },
      "execution_count": 9,
      "outputs": [
        {
          "output_type": "stream",
          "name": "stdout",
          "text": [
            "Cloning into 'point-e'...\n",
            "remote: Enumerating objects: 151, done.\u001b[K\n",
            "remote: Counting objects: 100% (60/60), done.\u001b[K\n",
            "remote: Compressing objects: 100% (39/39), done.\u001b[K\n",
            "remote: Total 151 (delta 37), reused 23 (delta 21), pack-reused 91\u001b[K\n",
            "Receiving objects: 100% (151/151), 6.11 MiB | 3.54 MiB/s, done.\n",
            "Resolving deltas: 100% (55/55), done.\n",
            "/content/point-e\n"
          ]
        }
      ]
    },
    {
      "cell_type": "code",
      "source": [
        "!pip install -e .\n",
        "!pip install diffusers transformers accelerate"
      ],
      "metadata": {
        "id": "ZXrXNYtlvhh2",
        "colab": {
          "base_uri": "https://localhost:8080/"
        },
        "outputId": "17cfa39c-9f97-44ab-a2a1-12833ddac28c"
      },
      "execution_count": 10,
      "outputs": [
        {
          "output_type": "stream",
          "name": "stdout",
          "text": [
            "Looking in indexes: https://pypi.org/simple, https://us-python.pkg.dev/colab-wheels/public/simple/\n",
            "Obtaining file:///content/point-e\n",
            "  Preparing metadata (setup.py) ... \u001b[?25l\u001b[?25hdone\n",
            "Collecting clip@ git+https://github.com/openai/CLIP.git\n",
            "  Cloning https://github.com/openai/CLIP.git to /tmp/pip-install-epdi7swz/clip_dd94a67140ff44c5804ad6c8ffd08d2c\n",
            "  Running command git clone --filter=blob:none --quiet https://github.com/openai/CLIP.git /tmp/pip-install-epdi7swz/clip_dd94a67140ff44c5804ad6c8ffd08d2c\n",
            "  Resolved https://github.com/openai/CLIP.git to commit 3702849800aa56e2223035bccd1c6ef91c704ca8\n",
            "  Preparing metadata (setup.py) ... \u001b[?25l\u001b[?25hdone\n",
            "Requirement already satisfied: filelock in /usr/local/lib/python3.8/dist-packages (from point-e==0.0.0) (3.9.0)\n",
            "Requirement already satisfied: Pillow in /usr/local/lib/python3.8/dist-packages (from point-e==0.0.0) (7.1.2)\n",
            "Requirement already satisfied: torch in /usr/local/lib/python3.8/dist-packages (from point-e==0.0.0) (1.13.1+cu116)\n",
            "Collecting fire\n",
            "  Downloading fire-0.5.0.tar.gz (88 kB)\n",
            "\u001b[2K     \u001b[90m━━━━━━━━━━━━━━━━━━━━━━━━━━━━━━━━━━━━━━━━\u001b[0m \u001b[32m88.3/88.3 KB\u001b[0m \u001b[31m8.3 MB/s\u001b[0m eta \u001b[36m0:00:00\u001b[0m\n",
            "\u001b[?25h  Preparing metadata (setup.py) ... \u001b[?25l\u001b[?25hdone\n",
            "Requirement already satisfied: humanize in /usr/local/lib/python3.8/dist-packages (from point-e==0.0.0) (0.5.1)\n",
            "Requirement already satisfied: requests in /usr/local/lib/python3.8/dist-packages (from point-e==0.0.0) (2.25.1)\n",
            "Requirement already satisfied: tqdm in /usr/local/lib/python3.8/dist-packages (from point-e==0.0.0) (4.64.1)\n",
            "Requirement already satisfied: matplotlib in /usr/local/lib/python3.8/dist-packages (from point-e==0.0.0) (3.2.2)\n",
            "Requirement already satisfied: scikit-image in /usr/local/lib/python3.8/dist-packages (from point-e==0.0.0) (0.18.3)\n",
            "Requirement already satisfied: scipy in /usr/local/lib/python3.8/dist-packages (from point-e==0.0.0) (1.7.3)\n",
            "Requirement already satisfied: numpy in /usr/local/lib/python3.8/dist-packages (from point-e==0.0.0) (1.21.6)\n",
            "Collecting einops\n",
            "  Downloading einops-0.6.0-py3-none-any.whl (41 kB)\n",
            "\u001b[2K     \u001b[90m━━━━━━━━━━━━━━━━━━━━━━━━━━━━━━━━━━━━━━━━\u001b[0m \u001b[32m41.6/41.6 KB\u001b[0m \u001b[31m5.6 MB/s\u001b[0m eta \u001b[36m0:00:00\u001b[0m\n",
            "\u001b[?25hCollecting visu3d\n",
            "  Downloading visu3d-1.4.0-py3-none-any.whl (67 kB)\n",
            "\u001b[2K     \u001b[90m━━━━━━━━━━━━━━━━━━━━━━━━━━━━━━━━━━━━━━━━\u001b[0m \u001b[32m67.7/67.7 KB\u001b[0m \u001b[31m10.1 MB/s\u001b[0m eta \u001b[36m0:00:00\u001b[0m\n",
            "\u001b[?25hCollecting tensorboardX\n",
            "  Downloading tensorboardX-2.5.1-py2.py3-none-any.whl (125 kB)\n",
            "\u001b[2K     \u001b[90m━━━━━━━━━━━━━━━━━━━━━━━━━━━━━━━━━━━━━━\u001b[0m \u001b[32m125.4/125.4 KB\u001b[0m \u001b[31m15.6 MB/s\u001b[0m eta \u001b[36m0:00:00\u001b[0m\n",
            "\u001b[?25hCollecting diffusers\n",
            "  Downloading diffusers-0.12.1-py3-none-any.whl (604 kB)\n",
            "\u001b[2K     \u001b[90m━━━━━━━━━━━━━━━━━━━━━━━━━━━━━━━━━━━━━━\u001b[0m \u001b[32m604.0/604.0 KB\u001b[0m \u001b[31m41.8 MB/s\u001b[0m eta \u001b[36m0:00:00\u001b[0m\n",
            "\u001b[?25hCollecting transformers\n",
            "  Downloading transformers-4.26.0-py3-none-any.whl (6.3 MB)\n",
            "\u001b[2K     \u001b[90m━━━━━━━━━━━━━━━━━━━━━━━━━━━━━━━━━━━━━━━━\u001b[0m \u001b[32m6.3/6.3 MB\u001b[0m \u001b[31m48.1 MB/s\u001b[0m eta \u001b[36m0:00:00\u001b[0m\n",
            "\u001b[?25hCollecting accelerate\n",
            "  Downloading accelerate-0.16.0-py3-none-any.whl (199 kB)\n",
            "\u001b[2K     \u001b[90m━━━━━━━━━━━━━━━━━━━━━━━━━━━━━━━━━━━━━━\u001b[0m \u001b[32m199.7/199.7 KB\u001b[0m \u001b[31m16.1 MB/s\u001b[0m eta \u001b[36m0:00:00\u001b[0m\n",
            "\u001b[?25hRequirement already satisfied: psutil in /usr/local/lib/python3.8/dist-packages (from accelerate->point-e==0.0.0) (5.4.8)\n",
            "Requirement already satisfied: pyyaml in /usr/local/lib/python3.8/dist-packages (from accelerate->point-e==0.0.0) (6.0)\n",
            "Requirement already satisfied: packaging>=20.0 in /usr/local/lib/python3.8/dist-packages (from accelerate->point-e==0.0.0) (23.0)\n",
            "Requirement already satisfied: typing-extensions in /usr/local/lib/python3.8/dist-packages (from torch->point-e==0.0.0) (4.4.0)\n",
            "Collecting ftfy\n",
            "  Downloading ftfy-6.1.1-py3-none-any.whl (53 kB)\n",
            "\u001b[2K     \u001b[90m━━━━━━━━━━━━━━━━━━━━━━━━━━━━━━━━━━━━━━━━\u001b[0m \u001b[32m53.1/53.1 KB\u001b[0m \u001b[31m6.3 MB/s\u001b[0m eta \u001b[36m0:00:00\u001b[0m\n",
            "\u001b[?25hRequirement already satisfied: regex in /usr/local/lib/python3.8/dist-packages (from clip@ git+https://github.com/openai/CLIP.git->point-e==0.0.0) (2022.6.2)\n",
            "Requirement already satisfied: torchvision in /usr/local/lib/python3.8/dist-packages (from clip@ git+https://github.com/openai/CLIP.git->point-e==0.0.0) (0.14.1+cu116)\n",
            "Requirement already satisfied: importlib-metadata in /usr/local/lib/python3.8/dist-packages (from diffusers->point-e==0.0.0) (6.0.0)\n",
            "Collecting huggingface-hub>=0.10.0\n",
            "  Downloading huggingface_hub-0.12.0-py3-none-any.whl (190 kB)\n",
            "\u001b[2K     \u001b[90m━━━━━━━━━━━━━━━━━━━━━━━━━━━━━━━━━━━━━━\u001b[0m \u001b[32m190.3/190.3 KB\u001b[0m \u001b[31m21.9 MB/s\u001b[0m eta \u001b[36m0:00:00\u001b[0m\n",
            "\u001b[?25hRequirement already satisfied: six in /usr/local/lib/python3.8/dist-packages (from fire->point-e==0.0.0) (1.15.0)\n",
            "Requirement already satisfied: termcolor in /usr/local/lib/python3.8/dist-packages (from fire->point-e==0.0.0) (2.2.0)\n",
            "Requirement already satisfied: kiwisolver>=1.0.1 in /usr/local/lib/python3.8/dist-packages (from matplotlib->point-e==0.0.0) (1.4.4)\n",
            "Requirement already satisfied: pyparsing!=2.0.4,!=2.1.2,!=2.1.6,>=2.0.1 in /usr/local/lib/python3.8/dist-packages (from matplotlib->point-e==0.0.0) (3.0.9)\n",
            "Requirement already satisfied: python-dateutil>=2.1 in /usr/local/lib/python3.8/dist-packages (from matplotlib->point-e==0.0.0) (2.8.2)\n",
            "Requirement already satisfied: cycler>=0.10 in /usr/local/lib/python3.8/dist-packages (from matplotlib->point-e==0.0.0) (0.11.0)\n",
            "Requirement already satisfied: chardet<5,>=3.0.2 in /usr/local/lib/python3.8/dist-packages (from requests->point-e==0.0.0) (4.0.0)\n",
            "Requirement already satisfied: urllib3<1.27,>=1.21.1 in /usr/local/lib/python3.8/dist-packages (from requests->point-e==0.0.0) (1.24.3)\n",
            "Requirement already satisfied: certifi>=2017.4.17 in /usr/local/lib/python3.8/dist-packages (from requests->point-e==0.0.0) (2022.12.7)\n",
            "Requirement already satisfied: idna<3,>=2.5 in /usr/local/lib/python3.8/dist-packages (from requests->point-e==0.0.0) (2.10)\n",
            "Requirement already satisfied: PyWavelets>=1.1.1 in /usr/local/lib/python3.8/dist-packages (from scikit-image->point-e==0.0.0) (1.4.1)\n",
            "Requirement already satisfied: imageio>=2.3.0 in /usr/local/lib/python3.8/dist-packages (from scikit-image->point-e==0.0.0) (2.9.0)\n",
            "Requirement already satisfied: networkx>=2.0 in /usr/local/lib/python3.8/dist-packages (from scikit-image->point-e==0.0.0) (3.0)\n",
            "Requirement already satisfied: tifffile>=2019.7.26 in /usr/local/lib/python3.8/dist-packages (from scikit-image->point-e==0.0.0) (2023.1.23.1)\n",
            "Requirement already satisfied: protobuf<=3.20.1,>=3.8.0 in /usr/local/lib/python3.8/dist-packages (from tensorboardX->point-e==0.0.0) (3.19.6)\n",
            "Collecting tokenizers!=0.11.3,<0.14,>=0.11.1\n",
            "  Downloading tokenizers-0.13.2-cp38-cp38-manylinux_2_17_x86_64.manylinux2014_x86_64.whl (7.6 MB)\n",
            "\u001b[2K     \u001b[90m━━━━━━━━━━━━━━━━━━━━━━━━━━━━━━━━━━━━━━━━\u001b[0m \u001b[32m7.6/7.6 MB\u001b[0m \u001b[31m43.1 MB/s\u001b[0m eta \u001b[36m0:00:00\u001b[0m\n",
            "\u001b[?25hRequirement already satisfied: etils[edc,enp,epath,epy,etree] in /usr/local/lib/python3.8/dist-packages (from visu3d->point-e==0.0.0) (1.0.0)\n",
            "Collecting dataclass_array\n",
            "  Downloading dataclass_array-1.3.0-py3-none-any.whl (53 kB)\n",
            "\u001b[2K     \u001b[90m━━━━━━━━━━━━━━━━━━━━━━━━━━━━━━━━━━━━━━━━\u001b[0m \u001b[32m53.3/53.3 KB\u001b[0m \u001b[31m5.4 MB/s\u001b[0m eta \u001b[36m0:00:00\u001b[0m\n",
            "\u001b[?25hCollecting lark\n",
            "  Downloading lark-1.1.5-py3-none-any.whl (107 kB)\n",
            "\u001b[2K     \u001b[90m━━━━━━━━━━━━━━━━━━━━━━━━━━━━━━━━━━━━━━\u001b[0m \u001b[32m108.0/108.0 KB\u001b[0m \u001b[31m14.4 MB/s\u001b[0m eta \u001b[36m0:00:00\u001b[0m\n",
            "\u001b[?25hRequirement already satisfied: zipp in /usr/local/lib/python3.8/dist-packages (from etils[edc,enp,epath,epy,etree]->visu3d->point-e==0.0.0) (3.12.0)\n",
            "Requirement already satisfied: importlib_resources in /usr/local/lib/python3.8/dist-packages (from etils[edc,enp,epath,epy,etree]->visu3d->point-e==0.0.0) (5.10.2)\n",
            "Requirement already satisfied: wcwidth>=0.2.5 in /usr/local/lib/python3.8/dist-packages (from ftfy->clip@ git+https://github.com/openai/CLIP.git->point-e==0.0.0) (0.2.6)\n",
            "Requirement already satisfied: absl-py in /usr/local/lib/python3.8/dist-packages (from etils[edc,enp,epath,epy,etree]->visu3d->point-e==0.0.0) (1.4.0)\n",
            "Building wheels for collected packages: clip, fire\n",
            "  Building wheel for clip (setup.py) ... \u001b[?25l\u001b[?25hdone\n",
            "  Created wheel for clip: filename=clip-1.0-py3-none-any.whl size=1369408 sha256=9f98dba229f0089b23e3f0f412382725f2fc7d42c7f926651456a5f17172f7d4\n",
            "  Stored in directory: /tmp/pip-ephem-wheel-cache-98rvpmqe/wheels/ab/4f/3a/5e51521b55997aa6f0690e095c08824219753128ce8d9969a3\n",
            "  Building wheel for fire (setup.py) ... \u001b[?25l\u001b[?25hdone\n",
            "  Created wheel for fire: filename=fire-0.5.0-py2.py3-none-any.whl size=116949 sha256=8d58bf3f05b871cd688b1775442ace9dbff85d4cb504e2fa03ddeebe10dab7c8\n",
            "  Stored in directory: /root/.cache/pip/wheels/5b/eb/43/7295e71293b218ddfd627f935229bf54af9018add7fbb5aac6\n",
            "Successfully built clip fire\n",
            "Installing collected packages: tokenizers, lark, tensorboardX, ftfy, fire, einops, huggingface-hub, accelerate, transformers, diffusers, clip, dataclass_array, visu3d, point-e\n",
            "  Running setup.py develop for point-e\n",
            "Successfully installed accelerate-0.16.0 clip-1.0 dataclass_array-1.3.0 diffusers-0.12.1 einops-0.6.0 fire-0.5.0 ftfy-6.1.1 huggingface-hub-0.12.0 lark-1.1.5 point-e tensorboardX-2.5.1 tokenizers-0.13.2 transformers-4.26.0 visu3d-1.4.0\n",
            "Looking in indexes: https://pypi.org/simple, https://us-python.pkg.dev/colab-wheels/public/simple/\n",
            "Requirement already satisfied: diffusers in /usr/local/lib/python3.8/dist-packages (0.12.1)\n",
            "Requirement already satisfied: transformers in /usr/local/lib/python3.8/dist-packages (4.26.0)\n",
            "Requirement already satisfied: accelerate in /usr/local/lib/python3.8/dist-packages (0.16.0)\n",
            "Requirement already satisfied: regex!=2019.12.17 in /usr/local/lib/python3.8/dist-packages (from diffusers) (2022.6.2)\n",
            "Requirement already satisfied: requests in /usr/local/lib/python3.8/dist-packages (from diffusers) (2.25.1)\n",
            "Requirement already satisfied: numpy in /usr/local/lib/python3.8/dist-packages (from diffusers) (1.21.6)\n",
            "Requirement already satisfied: filelock in /usr/local/lib/python3.8/dist-packages (from diffusers) (3.9.0)\n",
            "Requirement already satisfied: Pillow in /usr/local/lib/python3.8/dist-packages (from diffusers) (7.1.2)\n",
            "Requirement already satisfied: importlib-metadata in /usr/local/lib/python3.8/dist-packages (from diffusers) (6.0.0)\n",
            "Requirement already satisfied: huggingface-hub>=0.10.0 in /usr/local/lib/python3.8/dist-packages (from diffusers) (0.12.0)\n",
            "Requirement already satisfied: tqdm>=4.27 in /usr/local/lib/python3.8/dist-packages (from transformers) (4.64.1)\n",
            "Requirement already satisfied: packaging>=20.0 in /usr/local/lib/python3.8/dist-packages (from transformers) (23.0)\n",
            "Requirement already satisfied: tokenizers!=0.11.3,<0.14,>=0.11.1 in /usr/local/lib/python3.8/dist-packages (from transformers) (0.13.2)\n",
            "Requirement already satisfied: pyyaml>=5.1 in /usr/local/lib/python3.8/dist-packages (from transformers) (6.0)\n",
            "Requirement already satisfied: psutil in /usr/local/lib/python3.8/dist-packages (from accelerate) (5.4.8)\n",
            "Requirement already satisfied: torch>=1.4.0 in /usr/local/lib/python3.8/dist-packages (from accelerate) (1.13.1+cu116)\n",
            "Requirement already satisfied: typing-extensions>=3.7.4.3 in /usr/local/lib/python3.8/dist-packages (from huggingface-hub>=0.10.0->diffusers) (4.4.0)\n",
            "Requirement already satisfied: zipp>=0.5 in /usr/local/lib/python3.8/dist-packages (from importlib-metadata->diffusers) (3.12.0)\n",
            "Requirement already satisfied: idna<3,>=2.5 in /usr/local/lib/python3.8/dist-packages (from requests->diffusers) (2.10)\n",
            "Requirement already satisfied: certifi>=2017.4.17 in /usr/local/lib/python3.8/dist-packages (from requests->diffusers) (2022.12.7)\n",
            "Requirement already satisfied: urllib3<1.27,>=1.21.1 in /usr/local/lib/python3.8/dist-packages (from requests->diffusers) (1.24.3)\n",
            "Requirement already satisfied: chardet<5,>=3.0.2 in /usr/local/lib/python3.8/dist-packages (from requests->diffusers) (4.0.0)\n"
          ]
        }
      ]
    },
    {
      "cell_type": "code",
      "source": [
        "from PIL import Image\n",
        "import torch\n",
        "from tqdm.auto import tqdm\n",
        "from torchvision import transforms\n",
        "import numpy as np\n",
        "import matplotlib.pyplot as plt\n",
        "from diffusers import StableDiffusionInpaintPipeline, DPMSolverMultistepScheduler\n",
        "\n",
        "\n",
        "# setup cuda\n",
        "device = torch.device('cuda' if torch.cuda.is_available() else 'cpu')"
      ],
      "metadata": {
        "id": "Qt0rIkC2vhkv"
      },
      "execution_count": 11,
      "outputs": []
    },
    {
      "cell_type": "code",
      "source": [
        "!wget https://dl.fbaipublicfiles.com/pytorch3d/data/teapot/teapot.obj\n",
        "\n",
        "verts, faces, _ = load_obj(\"teapot.obj\")\n",
        "\n",
        "mesh = Meshes(verts=[verts], faces=[faces.verts_idx]).to(device)\n",
        "# add texture\n",
        "verts_rgb = torch.abs(torch.sin(torch.stack([torch.arange(0,mesh.verts_list()[0].shape[0]),torch.arange(0,mesh.verts_list()[0].shape[0]),torch.arange(0,mesh.verts_list()[0].shape[0])],dim=1))).to(device)\n",
        "verts_rgb = verts_rgb[None,:]\n",
        "mesh.textures = TexturesVertex(verts_features=verts_rgb) "
      ],
      "metadata": {
        "id": "Wsm4vAGpwAbx",
        "colab": {
          "base_uri": "https://localhost:8080/"
        },
        "outputId": "ddbf8a92-554a-41fd-c178-5d0f39611514"
      },
      "execution_count": 12,
      "outputs": [
        {
          "output_type": "stream",
          "name": "stdout",
          "text": [
            "--2023-02-07 21:35:23--  https://dl.fbaipublicfiles.com/pytorch3d/data/teapot/teapot.obj\n",
            "Resolving dl.fbaipublicfiles.com (dl.fbaipublicfiles.com)... 172.67.9.4, 104.22.75.142, 104.22.74.142, ...\n",
            "Connecting to dl.fbaipublicfiles.com (dl.fbaipublicfiles.com)|172.67.9.4|:443... connected.\n",
            "HTTP request sent, awaiting response... 200 OK\n",
            "Length: 152595 (149K) [text/plain]\n",
            "Saving to: ‘teapot.obj’\n",
            "\n",
            "teapot.obj          100%[===================>] 149.02K   235KB/s    in 0.6s    \n",
            "\n",
            "2023-02-07 21:35:25 (235 KB/s) - ‘teapot.obj’ saved [152595/152595]\n",
            "\n"
          ]
        }
      ]
    },
    {
      "cell_type": "code",
      "source": [
        "num_img = 4\n",
        "\n",
        "renders = []\n",
        "angles = np.linspace(0,360,num_img)\n",
        "for i, angle in enumerate(tqdm(angles)):\n",
        "    R, T = pytorch3d.renderer.look_at_view_transform(dist=3.0, elev=2, azim=angle)\n",
        "    cameras = pytorch3d.renderer.FoVPerspectiveCameras(R=R, T=T, device=device)\n",
        "    renderer=get_mesh_renderer(device=device)\n",
        "    rend = renderer(mesh, cameras=cameras)\n",
        "    rend = rend.cpu().numpy()\n",
        "    renders.append(rend[0])\n",
        "image_grid(torch.Tensor(renders).numpy(), rows=2, cols=2, rgb=True)\n",
        "plt.show()"
      ],
      "metadata": {
        "id": "oB0BeBbrwAfZ",
        "colab": {
          "base_uri": "https://localhost:8080/",
          "height": 712,
          "referenced_widgets": [
            "5b102cae32494580a827b2d33a8de8aa",
            "3d05cbe308ae45dbbd90eedaabc38042",
            "d6514edc8f184a29bba66c2fa3143cfc",
            "208e32fa278c4d3abdaee399d69e507a",
            "5724db0c820947db96f7c7023f2b50df",
            "6db000adaf9e45b59a5820b8b2d7c5d8",
            "c773fb218fc148079535f80a37a68260",
            "7cc8a6c84e3a44919e382514a0a03581",
            "6e5665b7472f4349bd1ebb7e0b2d8018",
            "a75f2684f1924ec5aefed38d8d6f6b1d",
            "a508166567b84f3c9f782d6cf3c692dd"
          ]
        },
        "outputId": "1330f65f-fb0f-41d2-bb56-f0d27883bf1a"
      },
      "execution_count": 15,
      "outputs": [
        {
          "output_type": "display_data",
          "data": {
            "text/plain": [
              "  0%|          | 0/4 [00:00<?, ?it/s]"
            ],
            "application/vnd.jupyter.widget-view+json": {
              "version_major": 2,
              "version_minor": 0,
              "model_id": "5b102cae32494580a827b2d33a8de8aa"
            }
          },
          "metadata": {}
        },
        {
          "output_type": "display_data",
          "data": {
            "text/plain": [
              "<Figure size 1080x648 with 4 Axes>"
            ],
            "image/png": "[encoded data removed]"
          },
          "metadata": {
            "needs_background": "light"
          }
        }
      ]
    },
    {
      "cell_type": "code",
      "source": [
        "images=image_gen(renders)"
      ],
      "metadata": {
        "id": "O6YWQHfUwAjS"
      },
      "execution_count": 16,
      "outputs": []
    },
    {
      "cell_type": "code",
      "source": [
        "len(images) #number of images"
      ],
      "metadata": {
        "id": "OOvSpNzmwAmq",
        "colab": {
          "base_uri": "https://localhost:8080/"
        },
        "outputId": "9a8b62b2-1a03-47a2-aba4-3d391d333aab"
      },
      "execution_count": 17,
      "outputs": [
        {
          "output_type": "execute_result",
          "data": {
            "text/plain": [
              "4"
            ]
          },
          "metadata": {},
          "execution_count": 17
        }
      ]
    },
    {
      "cell_type": "markdown",
      "source": [
        "**from images to point cloud**"
      ],
      "metadata": {
        "id": "GxFd4IvXwSLK"
      }
    },
    {
      "cell_type": "code",
      "source": [
        "from point_e.diffusion.configs import DIFFUSION_CONFIGS, diffusion_from_config\n",
        "from point_e.diffusion.sampler import PointCloudSampler\n",
        "from point_e.models.download import load_checkpoint\n",
        "from point_e.models.configs import MODEL_CONFIGS, model_from_config\n",
        "from point_e.util.plotting import plot_point_cloud"
      ],
      "metadata": {
        "id": "WtK-dbS4wAph"
      },
      "execution_count": 18,
      "outputs": []
    },
    {
      "cell_type": "code",
      "source": [
        "base_name = 'base300M' # base40M, use base300M or base1B for better results\n",
        "\n",
        "MODEL_CONFIGS[base_name][\"n_views\"] = 1\n",
        "MODEL_CONFIGS['upsample'][\"n_views\"] = 1\n",
        "\n",
        "print('creating base model...')\n",
        "base_model = model_from_config(MODEL_CONFIGS[base_name], device)\n",
        "base_model.eval()\n",
        "base_diffusion = diffusion_from_config(DIFFUSION_CONFIGS[base_name])\n",
        "\n",
        "print('creating upsample model...')\n",
        "upsampler_model = model_from_config(MODEL_CONFIGS['upsample'], device)\n",
        "upsampler_model.eval()\n",
        "upsampler_diffusion = diffusion_from_config(DIFFUSION_CONFIGS['upsample'])\n",
        "\n",
        "print('downloading base checkpoint...')\n",
        "base_model.load_state_dict(load_checkpoint(base_name, device))\n",
        "\n",
        "print('downloading upsampler checkpoint...')\n",
        "upsampler_model.load_state_dict(load_checkpoint('upsample', device))"
      ],
      "metadata": {
        "id": "oE--iotowAsH",
        "colab": {
          "base_uri": "https://localhost:8080/",
          "height": 220,
          "referenced_widgets": [
            "eab9e1d5faa7436eaa2f0d250580e455",
            "1bb12301069b4006bbb05c6be650a8c3",
            "50869c2bf3e14c0eaf3970c00d0c8ff6",
            "e4e6332b628b44bea906b04a7e826b08",
            "854a773e7db04eff935e6acffbf7899a",
            "b13ef08df46e44aab9ea478f7d4e3b3b",
            "850ebc30a9c24c97bbc38521c8d7e1a6",
            "77dd062637214764af0f20464fbd35b7",
            "0bd34d8992a94a13b0d04d4a17e371a1",
            "6ae88220c5ff490ea35cdef844ac17df",
            "1b18fec992dd4322b3233f47660cd0cc",
            "69e0ed2ed2ec42bfa9b8f1bcbb54680d",
            "2a205b55e7ed4b818dd6213ebbff6879",
            "f24a815a539a4b589ca332866498f9fa",
            "66d27eca5697460f8c7a0bcbebd172be",
            "191ffcd5f8bf4e6b985de863f67e3776",
            "76d22f2be0ca4ed4835581792ae0e6fb",
            "b239c5dcf3064588a5e7c687e645d5ed",
            "d6b3d0c9fe8e499d856b804324f3cdb6",
            "b8375f4724e3417ea0e6e968cfee4d7c",
            "9152667040e84cbd8fbedaf5fbc3222c",
            "b9ea7a71d3da486f8cf7ed3afcbd8928"
          ]
        },
        "outputId": "38fbd8ce-65c4-45b2-8bdb-0b9328295db0"
      },
      "execution_count": 19,
      "outputs": [
        {
          "output_type": "stream",
          "name": "stdout",
          "text": [
            "creating base model...\n"
          ]
        },
        {
          "output_type": "stream",
          "name": "stderr",
          "text": [
            "100%|████████████████████████████████████████| 890M/890M [00:07<00:00, 125MiB/s]\n"
          ]
        },
        {
          "output_type": "stream",
          "name": "stdout",
          "text": [
            "[-] Low Res Diff Transformer set with 1024+256*1 input tokens.\n",
            "creating upsample model...\n",
            "[-] High Res Diff Transformer set with 3072+256*1 input tokens.\n",
            "downloading base checkpoint...\n"
          ]
        },
        {
          "output_type": "display_data",
          "data": {
            "text/plain": [
              "  0%|          | 0.00/1.25G [00:00<?, ?iB/s]"
            ],
            "application/vnd.jupyter.widget-view+json": {
              "version_major": 2,
              "version_minor": 0,
              "model_id": "eab9e1d5faa7436eaa2f0d250580e455"
            }
          },
          "metadata": {}
        },
        {
          "output_type": "stream",
          "name": "stdout",
          "text": [
            "downloading upsampler checkpoint...\n"
          ]
        },
        {
          "output_type": "display_data",
          "data": {
            "text/plain": [
              "  0%|          | 0.00/162M [00:00<?, ?iB/s]"
            ],
            "application/vnd.jupyter.widget-view+json": {
              "version_major": 2,
              "version_minor": 0,
              "model_id": "69e0ed2ed2ec42bfa9b8f1bcbb54680d"
            }
          },
          "metadata": {}
        },
        {
          "output_type": "execute_result",
          "data": {
            "text/plain": [
              "<All keys matched successfully>"
            ]
          },
          "metadata": {},
          "execution_count": 19
        }
      ]
    },
    {
      "cell_type": "code",
      "source": [
        "num_points = 1024\n",
        "\n",
        "sampler = PointCloudSampler(\n",
        "    device=device,\n",
        "    models=[base_model, upsampler_model],\n",
        "    diffusions=[base_diffusion, upsampler_diffusion],\n",
        "    num_points=[num_points, 4096-num_points], # points in cloud and missing ones for upsampling\n",
        "    aux_channels=['R', 'G', 'B'],\n",
        "    guidance_scale=[3.0, 3.0],\n",
        ")"
      ],
      "metadata": {
        "id": "BO6ztMaGwXGS"
      },
      "execution_count": 20,
      "outputs": []
    },
    {
      "cell_type": "code",
      "source": [
        "samples = None\n",
        "for x in tqdm(sampler.sample_batch_progressive(batch_size=1, model_kwargs=dict(images=images))):\n",
        "    samples = x"
      ],
      "metadata": {
        "id": "ZqXZE5U7wXJX",
        "colab": {
          "base_uri": "https://localhost:8080/",
          "height": 49,
          "referenced_widgets": [
            "23fac1116d544737bb1a3e9ab7e01fc4",
            "bf04f2c2eb224eb29d675d2f0c7aa55e",
            "92c7d9f962914e4b987a7c07e9b2eb5f",
            "5999f61201c844f2a5d9ecb69eadc43c",
            "16797ca9dedd48539bd9d7987ab22f2b",
            "eb17a14e2189409c814cc9948ea53dcf",
            "faca49abfe2e4db4a7f9d1506fdd53a9",
            "fa3c1c61ffde45c295ccdac967128404",
            "c384ac8868844afca259e60673ed34eb",
            "14a2c333022644ce9b7b968b2bcf5441",
            "63396284dd324a7fb52d8f5ec4e59799"
          ]
        },
        "outputId": "3c9f5775-dcd4-48f9-9699-1c09975b27ca"
      },
      "execution_count": 21,
      "outputs": [
        {
          "output_type": "display_data",
          "data": {
            "text/plain": [
              "0it [00:00, ?it/s]"
            ],
            "application/vnd.jupyter.widget-view+json": {
              "version_major": 2,
              "version_minor": 0,
              "model_id": "23fac1116d544737bb1a3e9ab7e01fc4"
            }
          },
          "metadata": {}
        }
      ]
    },
    {
      "cell_type": "code",
      "source": [
        "print(\"size of the point cloud\",samples.shape)"
      ],
      "metadata": {
        "id": "-BldlaMzwXP-",
        "colab": {
          "base_uri": "https://localhost:8080/"
        },
        "outputId": "fdb29c6f-bbd7-45a4-8ed9-af14c6f53ba2"
      },
      "execution_count": 22,
      "outputs": [
        {
          "output_type": "stream",
          "name": "stdout",
          "text": [
            "size of the point cloud torch.Size([1, 6, 4096])\n"
          ]
        }
      ]
    },
    {
      "cell_type": "code",
      "source": [
        "gen_pointcloud = samples[0, :3, :]\n",
        "# reshape the point cloud\n",
        "pc = sampler.output_to_point_clouds(samples)[0]\n",
        "gen_pointcloud = torch.Tensor(pc.coords)\n",
        "print('shape: ',gen_pointcloud.shape)"
      ],
      "metadata": {
        "id": "XC2ORcXFwXY_",
        "colab": {
          "base_uri": "https://localhost:8080/"
        },
        "outputId": "0e607581-db00-4020-c2a9-3fd996d87149"
      },
      "execution_count": 23,
      "outputs": [
        {
          "output_type": "stream",
          "name": "stdout",
          "text": [
            "shape:  torch.Size([4096, 3])\n"
          ]
        }
      ]
    },
    {
      "cell_type": "code",
      "source": [
        "original = sample_points_from_meshes(mesh, num_samples=4096).cpu()[0]\n",
        "original = original.permute(1, 0)\n",
        "blacks = torch.zeros((3, original.shape[1]))\n",
        "original = torch.cat((original, blacks), 0).unsqueeze(0).cpu()\n",
        "pc = sampler.output_to_point_clouds(original)[0]\n",
        "original = torch.Tensor(pc.coords)\n",
        "\n",
        "print('shape: ',original.shape)"
      ],
      "metadata": {
        "id": "ixf5BuC_wXcY",
        "colab": {
          "base_uri": "https://localhost:8080/"
        },
        "outputId": "84f96831-5e9e-4a8a-993d-532be375a550"
      },
      "execution_count": 24,
      "outputs": [
        {
          "output_type": "stream",
          "name": "stdout",
          "text": [
            "shape:  torch.Size([4096, 3])\n"
          ]
        }
      ]
    },
    {
      "cell_type": "code",
      "source": [
        "# generate the distance matrix between each pair of variables\n",
        "X=np.array(gpu_dist_matrix(original.cpu()))\n",
        "\n",
        "# generate the distance matrix between each pair of variables\n",
        "Y=np.array(gpu_dist_matrix(gen_pointcloud.cpu()))\n"
      ],
      "metadata": {
        "id": "_gSMKuKOwXgC"
      },
      "execution_count": 25,
      "outputs": []
    },
    {
      "cell_type": "code",
      "source": [
        "# This step is important to center the two pointcloud\n",
        "XX=np.multiply(((Y).max()/(X).max()),X)\n",
        "#YY=np.multiply(((X).max()/(Y).max()),Y)"
      ],
      "metadata": {
        "id": "lIe5my_mwpFT"
      },
      "execution_count": 26,
      "outputs": []
    },
    {
      "cell_type": "code",
      "source": [
        "# generate the plot\n",
        "s = pd.DataFrame({\n",
        "    'original': [i.max() for i in XX],\n",
        "    'generated': [i.max() for i in Y],\n",
        "  })\n",
        "\n",
        "\n",
        "plt.style.use('ggplot')\n",
        "s['original'].plot.kde(bw_method=0.4,figsize=(24,8),legend=\"original\",title='poincloud pdf teapot',logx=False ,linestyle='-',linewidth= 4).legend(fontsize=20, loc=\"upper right\")\n",
        "s['generated'].plot.kde(bw_method=0.4,figsize=(24,8),legend=\"generated\",title='poincloud pdf teapot',logx=False ,linestyle='-',linewidth= 2).legend(fontsize=20, loc=\"upper right\")\n",
        "ax1 = plt.axes()\n",
        "y_axis = ax1.axes.get_yaxis()\n",
        "y_axis.set_visible(False)\n",
        "plt.show()\n",
        "plt.close()"
      ],
      "metadata": {
        "id": "lOPj1KTdwkHk",
        "colab": {
          "base_uri": "https://localhost:8080/",
          "height": 500
        },
        "outputId": "d054134c-5e56-4c9c-d9a1-90d951d917e0"
      },
      "execution_count": 27,
      "outputs": [
        {
          "output_type": "display_data",
          "data": {
            "text/plain": [
              "<Figure size 1728x576 with 1 Axes>"
            ],
            "image/png": "[encoded data removed]"
          },
          "metadata": {}
        }
      ]
    },
    {
      "cell_type": "code",
      "source": [
        "pc = sampler.output_to_point_clouds(samples)[0]\n",
        "fig = plot_point_cloud(pc, grid_size=2, fixed_bounds=((-0.75, -0.75, -0.75),(0.75, 0.75, 0.75)))"
      ],
      "metadata": {
        "id": "h04hCpyiwkMT",
        "colab": {
          "base_uri": "https://localhost:8080/",
          "height": 466
        },
        "outputId": "fe7618e8-a595-4465-da83-75f2c2dbf859"
      },
      "execution_count": 28,
      "outputs": [
        {
          "output_type": "display_data",
          "data": {
            "text/plain": [
              "<Figure size 576x576 with 4 Axes>"
            ],
            "image/png": "[encoded data removed]"
          },
          "metadata": {}
        }
      ]
    },
    {
      "cell_type": "markdown",
      "source": [
        "Now I try to add different object to check the distributions"
      ],
      "metadata": {
        "id": "JlrurCJCw0PW"
      }
    },
    {
      "cell_type": "code",
      "source": [
        "!wget -P data/cow_mesh https://dl.fbaipublicfiles.com/pytorch3d/data/cow_mesh/cow.obj\n",
        "!wget -P data/cow_mesh https://dl.fbaipublicfiles.com/pytorch3d/data/cow_mesh/cow.mtl"
      ],
      "metadata": {
        "id": "vKmBcAR1wkPZ",
        "colab": {
          "base_uri": "https://localhost:8080/"
        },
        "outputId": "3fd40d53-fef0-40a3-c3b3-acfc83eeed6e"
      },
      "execution_count": 29,
      "outputs": [
        {
          "output_type": "stream",
          "name": "stdout",
          "text": [
            "--2023-02-07 21:45:01--  https://dl.fbaipublicfiles.com/pytorch3d/data/cow_mesh/cow.obj\n",
            "Resolving dl.fbaipublicfiles.com (dl.fbaipublicfiles.com)... 104.22.74.142, 104.22.75.142, 172.67.9.4, ...\n",
            "Connecting to dl.fbaipublicfiles.com (dl.fbaipublicfiles.com)|104.22.74.142|:443... connected.\n",
            "HTTP request sent, awaiting response... 200 OK\n",
            "Length: 330659 (323K) [text/plain]\n",
            "Saving to: ‘data/cow_mesh/cow.obj’\n",
            "\n",
            "cow.obj             100%[===================>] 322.91K   361KB/s    in 0.9s    \n",
            "\n",
            "2023-02-07 21:45:04 (361 KB/s) - ‘data/cow_mesh/cow.obj’ saved [330659/330659]\n",
            "\n",
            "--2023-02-07 21:45:04--  https://dl.fbaipublicfiles.com/pytorch3d/data/cow_mesh/cow.mtl\n",
            "Resolving dl.fbaipublicfiles.com (dl.fbaipublicfiles.com)... 104.22.74.142, 104.22.75.142, 172.67.9.4, ...\n",
            "Connecting to dl.fbaipublicfiles.com (dl.fbaipublicfiles.com)|104.22.74.142|:443... connected.\n",
            "HTTP request sent, awaiting response... 200 OK\n",
            "Length: 155 [text/plain]\n",
            "Saving to: ‘data/cow_mesh/cow.mtl’\n",
            "\n",
            "cow.mtl             100%[===================>]     155  --.-KB/s    in 0s      \n",
            "\n",
            "2023-02-07 21:45:05 (37.5 MB/s) - ‘data/cow_mesh/cow.mtl’ saved [155/155]\n",
            "\n"
          ]
        }
      ]
    },
    {
      "cell_type": "code",
      "source": [
        "v, f, _ = load_obj(\"data/cow_mesh/cow.obj\")\n",
        "\n",
        "m = Meshes(verts=[v], faces=[f.verts_idx]).to(device)\n",
        "# add texture\n",
        "verts_rgb = torch.abs(torch.sin(torch.stack([torch.arange(0,m.verts_list()[0].shape[0]),torch.arange(0,m.verts_list()[0].shape[0]),torch.arange(0,m.verts_list()[0].shape[0])],dim=1))).to(device)\n",
        "verts_rgb = verts_rgb[None,:]\n",
        "m.textures = TexturesVertex(verts_features=verts_rgb) "
      ],
      "metadata": {
        "id": "qXjPzbLFwkSx"
      },
      "execution_count": 30,
      "outputs": []
    },
    {
      "cell_type": "code",
      "source": [
        "o_new = sample_points_from_meshes(m, num_samples=4096).cpu()[0]\n",
        "o_new = o_new.permute(1, 0)\n",
        "blacks = torch.zeros((3, o_new.shape[1]))\n",
        "o_new = torch.cat((o_new, blacks), 0).unsqueeze(0).cpu()\n",
        "pc = sampler.output_to_point_clouds(o_new)[0]\n",
        "o_new = torch.Tensor(pc.coords)\n",
        "\n",
        "print('shape: ',o_new.shape)\n",
        "\n",
        "# generate the distance matrix between each pair of variables\n",
        "O_NEW=np.array(gpu_dist_matrix(o_new.cpu()))\n",
        "\n",
        "O_NEW = np.multiply(((Y).max()/(O_NEW).max()),O_NEW)"
      ],
      "metadata": {
        "id": "jgtcZ_SqwkVn",
        "colab": {
          "base_uri": "https://localhost:8080/"
        },
        "outputId": "4a1c242d-eada-450e-d809-c285ed9cd742"
      },
      "execution_count": 31,
      "outputs": [
        {
          "output_type": "stream",
          "name": "stdout",
          "text": [
            "shape:  torch.Size([4096, 3])\n"
          ]
        }
      ]
    },
    {
      "cell_type": "code",
      "source": [
        "# generate the plot\n",
        "s = pd.DataFrame({\n",
        "    'original': [i.max() for i in XX],\n",
        "    'generated': [i.max() for i in Y],\n",
        "    'another object': [i.max() for i in O_NEW],\n",
        "  })\n",
        "\n",
        "\n",
        "plt.style.use('ggplot')\n",
        "s['original'].plot.kde(bw_method=0.4,figsize=(24,8),legend=\"original\",title='poincloud pdf teapot',logx=False ,linestyle='-',linewidth= 4).legend(fontsize=20, loc=\"upper right\")\n",
        "s['generated'].plot.kde(bw_method=0.4,figsize=(24,8),legend=\"generated\",title='poincloud pdf teapot',logx=False ,linestyle='-',linewidth= 2).legend(fontsize=20, loc=\"upper right\")\n",
        "s['another object'].plot.kde(bw_method=0.4,figsize=(24,8),legend=\"another object\",title='poincloud pdf teapot',logx=False ,linestyle='-',linewidth= 1).legend(fontsize=20, loc=\"upper right\")\n",
        "ax1 = plt.axes()\n",
        "y_axis = ax1.axes.get_yaxis()\n",
        "y_axis.set_visible(False)\n",
        "plt.show()\n",
        "plt.close()"
      ],
      "metadata": {
        "id": "85-2qvVuwkYf",
        "colab": {
          "base_uri": "https://localhost:8080/",
          "height": 500
        },
        "outputId": "55c7b8f7-c5c6-4a71-b166-c8faa26909da"
      },
      "execution_count": 32,
      "outputs": [
        {
          "output_type": "display_data",
          "data": {
            "text/plain": [
              "<Figure size 1728x576 with 1 Axes>"
            ],
            "image/png": "[encoded data removed]"
          },
          "metadata": {}
        }
      ]
    },
    {
      "cell_type": "markdown",
      "source": [
        "***Chamfer Distance***"
      ],
      "metadata": {
        "id": "3gjAKU3rxFmA"
      }
    },
    {
      "cell_type": "markdown",
      "source": [
        "Chamfer Distance (CD) is a evaluation metric for two point clouds. It takes the distance of each points into account. For each point in each cloud, CD finds the nearest point in the other point set, and sums the square of distance up. It is utilized in Shapenet's shape reconstruction challenge.\n",
        "\n"
      ],
      "metadata": {
        "id": "Xt2MV4gjxGqP"
      }
    },
    {
      "cell_type": "code",
      "source": [
        "loss_chamfer, _ = chamfer_distance(original.cpu()[None,:], gen_pointcloud.cpu()[None,:])"
      ],
      "metadata": {
        "id": "6xZTRmd6wkbo"
      },
      "execution_count": 33,
      "outputs": []
    },
    {
      "cell_type": "code",
      "source": [
        "print('loss chamfer distance: ',loss_chamfer)"
      ],
      "metadata": {
        "id": "Oz5Qg_Zuwkeg",
        "colab": {
          "base_uri": "https://localhost:8080/"
        },
        "outputId": "cf18daad-28b4-4654-88e2-c11a1294587c"
      },
      "execution_count": 34,
      "outputs": [
        {
          "output_type": "stream",
          "name": "stdout",
          "text": [
            "loss chamfer distance:  tensor(0.4201)\n"
          ]
        }
      ]
    },
    {
      "cell_type": "code",
      "source": [],
      "metadata": {
        "id": "Z62z4yUqwXja"
      },
      "execution_count": 34,
      "outputs": []
    }
  ]
}